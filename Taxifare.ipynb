{
 "cells": [
  {
   "cell_type": "code",
   "execution_count": 1,
   "metadata": {},
   "outputs": [],
   "source": [
    "import os\n",
    "import pandas as pd \n",
    "import numpy as np \n",
    "import matplotlib.pyplot as plt\n",
    "import seaborn as sns"
   ]
  },
  {
   "cell_type": "code",
   "execution_count": 2,
   "metadata": {},
   "outputs": [],
   "source": [
    "tf = pd.read_csv('TaxiFare.csv')"
   ]
  },
  {
   "cell_type": "code",
   "execution_count": 3,
   "metadata": {},
   "outputs": [
    {
     "data": {
      "text/plain": [
       "(50000, 8)"
      ]
     },
     "execution_count": 3,
     "metadata": {},
     "output_type": "execute_result"
    }
   ],
   "source": [
    "tf.shape "
   ]
  },
  {
   "cell_type": "code",
   "execution_count": 4,
   "metadata": {},
   "outputs": [
    {
     "name": "stdout",
     "output_type": "stream",
     "text": [
      "<class 'pandas.core.frame.DataFrame'>\n",
      "RangeIndex: 50000 entries, 0 to 49999\n",
      "Data columns (total 8 columns):\n",
      " #   Column                Non-Null Count  Dtype  \n",
      "---  ------                --------------  -----  \n",
      " 0   unique_id             50000 non-null  object \n",
      " 1   amount                50000 non-null  float64\n",
      " 2   date_time_of_pickup   50000 non-null  object \n",
      " 3   longitude_of_pickup   50000 non-null  float64\n",
      " 4   latitude_of_pickup    50000 non-null  float64\n",
      " 5   longitude_of_dropoff  50000 non-null  float64\n",
      " 6   latitude_of_dropoff   50000 non-null  float64\n",
      " 7   no_of_passenger       50000 non-null  int64  \n",
      "dtypes: float64(5), int64(1), object(2)\n",
      "memory usage: 3.1+ MB\n"
     ]
    }
   ],
   "source": [
    "tf.info() \n"
   ]
  },
  {
   "cell_type": "code",
   "execution_count": 5,
   "metadata": {},
   "outputs": [
    {
     "data": {
      "text/html": [
       "<div>\n",
       "<style scoped>\n",
       "    .dataframe tbody tr th:only-of-type {\n",
       "        vertical-align: middle;\n",
       "    }\n",
       "\n",
       "    .dataframe tbody tr th {\n",
       "        vertical-align: top;\n",
       "    }\n",
       "\n",
       "    .dataframe thead th {\n",
       "        text-align: right;\n",
       "    }\n",
       "</style>\n",
       "<table border=\"1\" class=\"dataframe\">\n",
       "  <thead>\n",
       "    <tr style=\"text-align: right;\">\n",
       "      <th></th>\n",
       "      <th>unique_id</th>\n",
       "      <th>amount</th>\n",
       "      <th>date_time_of_pickup</th>\n",
       "      <th>longitude_of_pickup</th>\n",
       "      <th>latitude_of_pickup</th>\n",
       "      <th>longitude_of_dropoff</th>\n",
       "      <th>latitude_of_dropoff</th>\n",
       "      <th>no_of_passenger</th>\n",
       "    </tr>\n",
       "  </thead>\n",
       "  <tbody>\n",
       "    <tr>\n",
       "      <th>0</th>\n",
       "      <td>26:21.0</td>\n",
       "      <td>4.5</td>\n",
       "      <td>2009-06-15 17:26:21 UTC</td>\n",
       "      <td>-73.844311</td>\n",
       "      <td>40.721319</td>\n",
       "      <td>-73.841610</td>\n",
       "      <td>40.712278</td>\n",
       "      <td>1</td>\n",
       "    </tr>\n",
       "    <tr>\n",
       "      <th>1</th>\n",
       "      <td>52:16.0</td>\n",
       "      <td>16.9</td>\n",
       "      <td>2010-01-05 16:52:16 UTC</td>\n",
       "      <td>-74.016048</td>\n",
       "      <td>40.711303</td>\n",
       "      <td>-73.979268</td>\n",
       "      <td>40.782004</td>\n",
       "      <td>1</td>\n",
       "    </tr>\n",
       "    <tr>\n",
       "      <th>2</th>\n",
       "      <td>35:00.0</td>\n",
       "      <td>5.7</td>\n",
       "      <td>2011-08-18 00:35:00 UTC</td>\n",
       "      <td>-73.982738</td>\n",
       "      <td>40.761270</td>\n",
       "      <td>-73.991242</td>\n",
       "      <td>40.750562</td>\n",
       "      <td>2</td>\n",
       "    </tr>\n",
       "    <tr>\n",
       "      <th>3</th>\n",
       "      <td>30:42.0</td>\n",
       "      <td>7.7</td>\n",
       "      <td>2012-04-21 04:30:42 UTC</td>\n",
       "      <td>-73.987130</td>\n",
       "      <td>40.733143</td>\n",
       "      <td>-73.991567</td>\n",
       "      <td>40.758092</td>\n",
       "      <td>1</td>\n",
       "    </tr>\n",
       "    <tr>\n",
       "      <th>4</th>\n",
       "      <td>51:00.0</td>\n",
       "      <td>5.3</td>\n",
       "      <td>2010-03-09 07:51:00 UTC</td>\n",
       "      <td>-73.968095</td>\n",
       "      <td>40.768008</td>\n",
       "      <td>-73.956655</td>\n",
       "      <td>40.783762</td>\n",
       "      <td>1</td>\n",
       "    </tr>\n",
       "  </tbody>\n",
       "</table>\n",
       "</div>"
      ],
      "text/plain": [
       "  unique_id  amount      date_time_of_pickup  longitude_of_pickup  \\\n",
       "0   26:21.0     4.5  2009-06-15 17:26:21 UTC           -73.844311   \n",
       "1   52:16.0    16.9  2010-01-05 16:52:16 UTC           -74.016048   \n",
       "2   35:00.0     5.7  2011-08-18 00:35:00 UTC           -73.982738   \n",
       "3   30:42.0     7.7  2012-04-21 04:30:42 UTC           -73.987130   \n",
       "4   51:00.0     5.3  2010-03-09 07:51:00 UTC           -73.968095   \n",
       "\n",
       "   latitude_of_pickup  longitude_of_dropoff  latitude_of_dropoff  \\\n",
       "0           40.721319            -73.841610            40.712278   \n",
       "1           40.711303            -73.979268            40.782004   \n",
       "2           40.761270            -73.991242            40.750562   \n",
       "3           40.733143            -73.991567            40.758092   \n",
       "4           40.768008            -73.956655            40.783762   \n",
       "\n",
       "   no_of_passenger  \n",
       "0                1  \n",
       "1                1  \n",
       "2                2  \n",
       "3                1  \n",
       "4                1  "
      ]
     },
     "execution_count": 5,
     "metadata": {},
     "output_type": "execute_result"
    }
   ],
   "source": [
    "tf.head()"
   ]
  },
  {
   "cell_type": "markdown",
   "metadata": {},
   "source": [
    "# Target Variable - Amount "
   ]
  },
  {
   "cell_type": "code",
   "execution_count": 6,
   "metadata": {},
   "outputs": [
    {
     "data": {
      "text/plain": [
       "count    50000.000000\n",
       "mean        11.364171\n",
       "std          9.685557\n",
       "min         -5.000000\n",
       "25%          6.000000\n",
       "50%          8.500000\n",
       "75%         12.500000\n",
       "max        200.000000\n",
       "Name: amount, dtype: float64"
      ]
     },
     "execution_count": 6,
     "metadata": {},
     "output_type": "execute_result"
    }
   ],
   "source": [
    "tf.amount.describe()"
   ]
  },
  {
   "cell_type": "code",
   "execution_count": 7,
   "metadata": {},
   "outputs": [
    {
     "data": {
      "text/plain": [
       "Text(0.5, 1.0, 'Histogram of Taxi Fare amount')"
      ]
     },
     "execution_count": 7,
     "metadata": {},
     "output_type": "execute_result"
    },
    {
     "data": {
      "image/png": "[encoded data removed]",
      "text/plain": [
       "<Figure size 432x288 with 1 Axes>"
      ]
     },
     "metadata": {
      "needs_background": "light"
     },
     "output_type": "display_data"
    }
   ],
   "source": [
    "plt.hist(tf.amount, bins='auto')\n",
    "plt.xlabel(\"Fare Amount\")\n",
    "plt.ylabel('counts')\n",
    "plt.title(\"Histogram of Taxi Fare amount\")"
   ]
  },
  {
   "cell_type": "code",
   "execution_count": 8,
   "metadata": {},
   "outputs": [
    {
     "data": {
      "text/plain": [
       "<AxesSubplot:>"
      ]
     },
     "execution_count": 8,
     "metadata": {},
     "output_type": "execute_result"
    },
    {
     "data": {
      "image/png": "[encoded data removed]",
      "text/plain": [
       "<Figure size 432x288 with 1 Axes>"
      ]
     },
     "metadata": {
      "needs_background": "light"
     },
     "output_type": "display_data"
    }
   ],
   "source": [
    "props2 = dict(boxes = 'red', whiskers = 'green', medians = 'black', caps = 'red')\n",
    "tf.amount.plot.box(color=props2, patch_artist = True, vert = False)"
   ]
  },
  {
   "cell_type": "code",
   "execution_count": 9,
   "metadata": {},
   "outputs": [
    {
     "data": {
      "text/plain": [
       "6.5"
      ]
     },
     "execution_count": 9,
     "metadata": {},
     "output_type": "execute_result"
    }
   ],
   "source": [
    "iqr = tf.amount.describe()['75%'] - tf.amount.describe()['25%']\n",
    "iqr"
   ]
  },
  {
   "cell_type": "code",
   "execution_count": 10,
   "metadata": {},
   "outputs": [
    {
     "data": {
      "text/plain": [
       "1"
      ]
     },
     "execution_count": 10,
     "metadata": {},
     "output_type": "execute_result"
    }
   ],
   "source": [
    "low_lim = tf.amount.describe()['25%']-1.5*iqr\n",
    "len(tf.amount[tf.amount < low_lim])"
   ]
  },
  {
   "cell_type": "code",
   "execution_count": 11,
   "metadata": {},
   "outputs": [
    {
     "data": {
      "text/plain": [
       "4364"
      ]
     },
     "execution_count": 11,
     "metadata": {},
     "output_type": "execute_result"
    }
   ],
   "source": [
    "up_lim = tf.amount.describe()['75%']+1.5*iqr \n",
    "len(tf.amount[tf.amount > up_lim])"
   ]
  },
  {
   "cell_type": "code",
   "execution_count": 171,
   "metadata": {},
   "outputs": [
    {
     "data": {
      "text/plain": [
       "40.818858500000005"
      ]
     },
     "execution_count": 171,
     "metadata": {},
     "output_type": "execute_result"
    }
   ],
   "source": [
    "up_lim"
   ]
  },
  {
   "cell_type": "code",
   "execution_count": 12,
   "metadata": {},
   "outputs": [],
   "source": [
    "#.amount.value_counts()==0"
   ]
  },
  {
   "cell_type": "code",
   "execution_count": 13,
   "metadata": {},
   "outputs": [
    {
     "data": {
      "text/plain": [
       "6"
      ]
     },
     "execution_count": 13,
     "metadata": {},
     "output_type": "execute_result"
    }
   ],
   "source": [
    "len(tf.amount[tf.amount <0])"
   ]
  },
  {
   "cell_type": "code",
   "execution_count": 14,
   "metadata": {},
   "outputs": [
    {
     "data": {
      "text/plain": [
       "5"
      ]
     },
     "execution_count": 14,
     "metadata": {},
     "output_type": "execute_result"
    }
   ],
   "source": [
    "len(tf.amount[tf.amount >150]) "
   ]
  },
  {
   "cell_type": "code",
   "execution_count": 15,
   "metadata": {},
   "outputs": [
    {
     "data": {
      "text/plain": [
       "16"
      ]
     },
     "execution_count": 15,
     "metadata": {},
     "output_type": "execute_result"
    }
   ],
   "source": [
    "len(tf.amount[tf.amount >100])"
   ]
  },
  {
   "cell_type": "code",
   "execution_count": 16,
   "metadata": {},
   "outputs": [
    {
     "data": {
      "text/plain": [
       "636"
      ]
     },
     "execution_count": 16,
     "metadata": {},
     "output_type": "execute_result"
    }
   ],
   "source": [
    "len(tf.amount[tf.amount >50])"
   ]
  },
  {
   "cell_type": "code",
   "execution_count": 17,
   "metadata": {},
   "outputs": [
    {
     "name": "stdout",
     "output_type": "stream",
     "text": [
      "Taxi Fare paid more than: 22 No of passengers : 4413\n",
      "Taxi Fare paid more than: 23 No of passengers : 4092\n",
      "Taxi Fare paid more than: 24 No of passengers : 3828\n",
      "Taxi Fare paid more than: 25 No of passengers : 3576\n",
      "Taxi Fare paid more than: 26 No of passengers : 3336\n",
      "Taxi Fare paid more than: 27 No of passengers : 3096\n",
      "Taxi Fare paid more than: 28 No of passengers : 2931\n",
      "Taxi Fare paid more than: 29 No of passengers : 2724\n",
      "Taxi Fare paid more than: 30 No of passengers : 2581\n",
      "Taxi Fare paid more than: 31 No of passengers : 2380\n"
     ]
    }
   ],
   "source": [
    "for i in range(22,32,1):\n",
    "    tf_len = len(tf.amount[tf.amount > i])\n",
    "    print('Taxi Fare paid more than:', i , 'No of passengers :', tf_len)"
   ]
  },
  {
   "cell_type": "markdown",
   "metadata": {},
   "source": [
    "# date_time_of_pickup"
   ]
  },
  {
   "cell_type": "code",
   "execution_count": 18,
   "metadata": {},
   "outputs": [
    {
     "data": {
      "text/plain": [
       "count                       50000\n",
       "unique                      49555\n",
       "top       2011-09-03 01:30:00 UTC\n",
       "freq                            3\n",
       "Name: date_time_of_pickup, dtype: object"
      ]
     },
     "execution_count": 18,
     "metadata": {},
     "output_type": "execute_result"
    }
   ],
   "source": [
    "tf.date_time_of_pickup.describe()"
   ]
  },
  {
   "cell_type": "code",
   "execution_count": 19,
   "metadata": {},
   "outputs": [
    {
     "name": "stdout",
     "output_type": "stream",
     "text": [
      "<class 'pandas.core.frame.DataFrame'>\n",
      "RangeIndex: 50000 entries, 0 to 49999\n",
      "Data columns (total 8 columns):\n",
      " #   Column                Non-Null Count  Dtype  \n",
      "---  ------                --------------  -----  \n",
      " 0   unique_id             50000 non-null  object \n",
      " 1   amount                50000 non-null  float64\n",
      " 2   date_time_of_pickup   50000 non-null  object \n",
      " 3   longitude_of_pickup   50000 non-null  float64\n",
      " 4   latitude_of_pickup    50000 non-null  float64\n",
      " 5   longitude_of_dropoff  50000 non-null  float64\n",
      " 6   latitude_of_dropoff   50000 non-null  float64\n",
      " 7   no_of_passenger       50000 non-null  int64  \n",
      "dtypes: float64(5), int64(1), object(2)\n",
      "memory usage: 3.1+ MB\n"
     ]
    }
   ],
   "source": [
    "tf.info()"
   ]
  },
  {
   "cell_type": "code",
   "execution_count": 20,
   "metadata": {},
   "outputs": [],
   "source": [
    "tf.date_time_of_pickup = pd.to_datetime(tf.date_time_of_pickup)"
   ]
  },
  {
   "cell_type": "code",
   "execution_count": 21,
   "metadata": {},
   "outputs": [
    {
     "name": "stdout",
     "output_type": "stream",
     "text": [
      "<class 'pandas.core.frame.DataFrame'>\n",
      "RangeIndex: 50000 entries, 0 to 49999\n",
      "Data columns (total 8 columns):\n",
      " #   Column                Non-Null Count  Dtype              \n",
      "---  ------                --------------  -----              \n",
      " 0   unique_id             50000 non-null  object             \n",
      " 1   amount                50000 non-null  float64            \n",
      " 2   date_time_of_pickup   50000 non-null  datetime64[ns, UTC]\n",
      " 3   longitude_of_pickup   50000 non-null  float64            \n",
      " 4   latitude_of_pickup    50000 non-null  float64            \n",
      " 5   longitude_of_dropoff  50000 non-null  float64            \n",
      " 6   latitude_of_dropoff   50000 non-null  float64            \n",
      " 7   no_of_passenger       50000 non-null  int64              \n",
      "dtypes: datetime64[ns, UTC](1), float64(5), int64(1), object(1)\n",
      "memory usage: 3.1+ MB\n"
     ]
    }
   ],
   "source": [
    "tf.info()"
   ]
  },
  {
   "cell_type": "code",
   "execution_count": 22,
   "metadata": {},
   "outputs": [
    {
     "data": {
      "text/plain": [
       "0   2009-06-15 17:26:21+00:00\n",
       "1   2010-01-05 16:52:16+00:00\n",
       "2   2011-08-18 00:35:00+00:00\n",
       "3   2012-04-21 04:30:42+00:00\n",
       "4   2010-03-09 07:51:00+00:00\n",
       "Name: date_time_of_pickup, dtype: datetime64[ns, UTC]"
      ]
     },
     "execution_count": 22,
     "metadata": {},
     "output_type": "execute_result"
    }
   ],
   "source": [
    "tf.date_time_of_pickup.head()"
   ]
  },
  {
   "cell_type": "code",
   "execution_count": 23,
   "metadata": {},
   "outputs": [],
   "source": [
    "tf['year'] = tf[\"date_time_of_pickup\"].dt.year\n",
    "tf['month'] = tf[\"date_time_of_pickup\"].dt.month_name()\n",
    "tf['day'] = tf[\"date_time_of_pickup\"].dt.day_name()\n",
    "tf['hour'] = tf[\"date_time_of_pickup\"].dt.hour"
   ]
  },
  {
   "cell_type": "markdown",
   "metadata": {},
   "source": [
    "year"
   ]
  },
  {
   "cell_type": "code",
   "execution_count": 24,
   "metadata": {},
   "outputs": [
    {
     "data": {
      "text/plain": [
       "Text(0.5, 1.0, 'Yearwise counting')"
      ]
     },
     "execution_count": 24,
     "metadata": {},
     "output_type": "execute_result"
    },
    {
     "data": {
      "image/png": "[encoded data removed]",
      "text/plain": [
       "<Figure size 432x288 with 1 Axes>"
      ]
     },
     "metadata": {
      "needs_background": "light"
     },
     "output_type": "display_data"
    }
   ],
   "source": [
    "sns.countplot(x='year', data=tf)\n",
    "plt.xlabel(\"Fare Amount\")\n",
    "plt.ylabel('counts')\n",
    "plt.title(\"Yearwise counting\")"
   ]
  },
  {
   "cell_type": "code",
   "execution_count": 25,
   "metadata": {},
   "outputs": [
    {
     "data": {
      "text/plain": [
       "2012    8005\n",
       "2011    7832\n",
       "2013    7819\n",
       "2009    7716\n",
       "2010    7646\n",
       "2014    7530\n",
       "2015    3452\n",
       "Name: year, dtype: int64"
      ]
     },
     "execution_count": 25,
     "metadata": {},
     "output_type": "execute_result"
    }
   ],
   "source": [
    "tf.year.value_counts()"
   ]
  },
  {
   "cell_type": "code",
   "execution_count": 26,
   "metadata": {},
   "outputs": [
    {
     "data": {
      "text/plain": [
       "<AxesSubplot:>"
      ]
     },
     "execution_count": 26,
     "metadata": {},
     "output_type": "execute_result"
    },
    {
     "data": {
      "image/png": "[encoded data removed]",
      "text/plain": [
       "<Figure size 432x288 with 1 Axes>"
      ]
     },
     "metadata": {
      "needs_background": "light"
     },
     "output_type": "display_data"
    }
   ],
   "source": [
    "props2 = dict(boxes = 'red', whiskers = 'green', medians = 'black', caps = 'red')\n",
    "tf.year.plot.box(color=props2, patch_artist = True, vert = False)"
   ]
  },
  {
   "cell_type": "code",
   "execution_count": 27,
   "metadata": {},
   "outputs": [
    {
     "data": {
      "text/html": [
       "<div>\n",
       "<style scoped>\n",
       "    .dataframe tbody tr th:only-of-type {\n",
       "        vertical-align: middle;\n",
       "    }\n",
       "\n",
       "    .dataframe tbody tr th {\n",
       "        vertical-align: top;\n",
       "    }\n",
       "\n",
       "    .dataframe thead th {\n",
       "        text-align: right;\n",
       "    }\n",
       "</style>\n",
       "<table border=\"1\" class=\"dataframe\">\n",
       "  <thead>\n",
       "    <tr style=\"text-align: right;\">\n",
       "      <th></th>\n",
       "      <th>count</th>\n",
       "      <th>mean</th>\n",
       "      <th>std</th>\n",
       "      <th>min</th>\n",
       "      <th>25%</th>\n",
       "      <th>50%</th>\n",
       "      <th>75%</th>\n",
       "      <th>max</th>\n",
       "    </tr>\n",
       "    <tr>\n",
       "      <th>year</th>\n",
       "      <th></th>\n",
       "      <th></th>\n",
       "      <th></th>\n",
       "      <th></th>\n",
       "      <th></th>\n",
       "      <th></th>\n",
       "      <th></th>\n",
       "      <th></th>\n",
       "    </tr>\n",
       "  </thead>\n",
       "  <tbody>\n",
       "    <tr>\n",
       "      <th>2009</th>\n",
       "      <td>7716.0</td>\n",
       "      <td>10.049168</td>\n",
       "      <td>8.447096</td>\n",
       "      <td>2.5</td>\n",
       "      <td>5.7</td>\n",
       "      <td>7.7</td>\n",
       "      <td>11.3</td>\n",
       "      <td>165.00</td>\n",
       "    </tr>\n",
       "    <tr>\n",
       "      <th>2010</th>\n",
       "      <td>7646.0</td>\n",
       "      <td>10.137180</td>\n",
       "      <td>8.406004</td>\n",
       "      <td>-2.9</td>\n",
       "      <td>5.7</td>\n",
       "      <td>7.7</td>\n",
       "      <td>11.3</td>\n",
       "      <td>143.00</td>\n",
       "    </tr>\n",
       "    <tr>\n",
       "      <th>2011</th>\n",
       "      <td>7832.0</td>\n",
       "      <td>10.465931</td>\n",
       "      <td>8.467032</td>\n",
       "      <td>2.5</td>\n",
       "      <td>5.7</td>\n",
       "      <td>7.7</td>\n",
       "      <td>11.7</td>\n",
       "      <td>96.00</td>\n",
       "    </tr>\n",
       "    <tr>\n",
       "      <th>2012</th>\n",
       "      <td>8005.0</td>\n",
       "      <td>11.228863</td>\n",
       "      <td>9.667937</td>\n",
       "      <td>2.5</td>\n",
       "      <td>6.0</td>\n",
       "      <td>8.5</td>\n",
       "      <td>12.5</td>\n",
       "      <td>200.00</td>\n",
       "    </tr>\n",
       "    <tr>\n",
       "      <th>2013</th>\n",
       "      <td>7819.0</td>\n",
       "      <td>12.439474</td>\n",
       "      <td>10.428842</td>\n",
       "      <td>-3.0</td>\n",
       "      <td>6.5</td>\n",
       "      <td>9.5</td>\n",
       "      <td>14.0</td>\n",
       "      <td>180.00</td>\n",
       "    </tr>\n",
       "    <tr>\n",
       "      <th>2014</th>\n",
       "      <td>7530.0</td>\n",
       "      <td>13.139649</td>\n",
       "      <td>11.311478</td>\n",
       "      <td>2.5</td>\n",
       "      <td>6.5</td>\n",
       "      <td>9.5</td>\n",
       "      <td>15.0</td>\n",
       "      <td>165.00</td>\n",
       "    </tr>\n",
       "    <tr>\n",
       "      <th>2015</th>\n",
       "      <td>3452.0</td>\n",
       "      <td>13.064392</td>\n",
       "      <td>10.799374</td>\n",
       "      <td>-5.0</td>\n",
       "      <td>6.5</td>\n",
       "      <td>9.5</td>\n",
       "      <td>15.0</td>\n",
       "      <td>96.25</td>\n",
       "    </tr>\n",
       "  </tbody>\n",
       "</table>\n",
       "</div>"
      ],
      "text/plain": [
       "       count       mean        std  min  25%  50%   75%     max\n",
       "year                                                           \n",
       "2009  7716.0  10.049168   8.447096  2.5  5.7  7.7  11.3  165.00\n",
       "2010  7646.0  10.137180   8.406004 -2.9  5.7  7.7  11.3  143.00\n",
       "2011  7832.0  10.465931   8.467032  2.5  5.7  7.7  11.7   96.00\n",
       "2012  8005.0  11.228863   9.667937  2.5  6.0  8.5  12.5  200.00\n",
       "2013  7819.0  12.439474  10.428842 -3.0  6.5  9.5  14.0  180.00\n",
       "2014  7530.0  13.139649  11.311478  2.5  6.5  9.5  15.0  165.00\n",
       "2015  3452.0  13.064392  10.799374 -5.0  6.5  9.5  15.0   96.25"
      ]
     },
     "execution_count": 27,
     "metadata": {},
     "output_type": "execute_result"
    }
   ],
   "source": [
    "tf.groupby('year')['amount'].describe()"
   ]
  },
  {
   "cell_type": "code",
   "execution_count": 28,
   "metadata": {},
   "outputs": [
    {
     "data": {
      "text/plain": [
       "[<matplotlib.lines.Line2D at 0x25fbca77640>]"
      ]
     },
     "execution_count": 28,
     "metadata": {},
     "output_type": "execute_result"
    },
    {
     "data": {
      "image/png": "[encoded data removed]",
      "text/plain": [
       "<Figure size 432x288 with 1 Axes>"
      ]
     },
     "metadata": {
      "needs_background": "light"
     },
     "output_type": "display_data"
    }
   ],
   "source": [
    "plt.plot(tf.groupby('year')['amount'].count())"
   ]
  },
  {
   "cell_type": "code",
   "execution_count": 29,
   "metadata": {},
   "outputs": [
    {
     "data": {
      "text/plain": [
       "[<matplotlib.lines.Line2D at 0x25fbcad7f70>]"
      ]
     },
     "execution_count": 29,
     "metadata": {},
     "output_type": "execute_result"
    },
    {
     "data": {
      "image/png": "[encoded data removed]",
      "text/plain": [
       "<Figure size 432x288 with 1 Axes>"
      ]
     },
     "metadata": {
      "needs_background": "light"
     },
     "output_type": "display_data"
    }
   ],
   "source": [
    "plt.plot(tf.groupby('year')['amount'].mean())"
   ]
  },
  {
   "cell_type": "markdown",
   "metadata": {},
   "source": [
    "month"
   ]
  },
  {
   "cell_type": "code",
   "execution_count": 30,
   "metadata": {},
   "outputs": [
    {
     "data": {
      "text/plain": [
       "(array([ 0,  1,  2,  3,  4,  5,  6,  7,  8,  9, 10, 11]),\n",
       " [Text(0, 0, 'June'),\n",
       "  Text(1, 0, 'January'),\n",
       "  Text(2, 0, 'August'),\n",
       "  Text(3, 0, 'April'),\n",
       "  Text(4, 0, 'March'),\n",
       "  Text(5, 0, 'November'),\n",
       "  Text(6, 0, 'December'),\n",
       "  Text(7, 0, 'September'),\n",
       "  Text(8, 0, 'July'),\n",
       "  Text(9, 0, 'February'),\n",
       "  Text(10, 0, 'May'),\n",
       "  Text(11, 0, 'October')])"
      ]
     },
     "execution_count": 30,
     "metadata": {},
     "output_type": "execute_result"
    },
    {
     "data": {
      "image/png": "[encoded data removed]",
      "text/plain": [
       "<Figure size 432x288 with 1 Axes>"
      ]
     },
     "metadata": {
      "needs_background": "light"
     },
     "output_type": "display_data"
    }
   ],
   "source": [
    "sns.countplot(x='month', data=tf)\n",
    "plt.xlabel(\"Fare Amount\")\n",
    "plt.ylabel('counts')\n",
    "plt.title(\"Monthwise counting\")\n",
    "plt.xticks(rotation=90)"
   ]
  },
  {
   "cell_type": "code",
   "execution_count": 31,
   "metadata": {},
   "outputs": [
    {
     "data": {
      "text/html": [
       "<div>\n",
       "<style scoped>\n",
       "    .dataframe tbody tr th:only-of-type {\n",
       "        vertical-align: middle;\n",
       "    }\n",
       "\n",
       "    .dataframe tbody tr th {\n",
       "        vertical-align: top;\n",
       "    }\n",
       "\n",
       "    .dataframe thead th {\n",
       "        text-align: right;\n",
       "    }\n",
       "</style>\n",
       "<table border=\"1\" class=\"dataframe\">\n",
       "  <thead>\n",
       "    <tr style=\"text-align: right;\">\n",
       "      <th></th>\n",
       "      <th>count</th>\n",
       "      <th>mean</th>\n",
       "      <th>std</th>\n",
       "      <th>min</th>\n",
       "      <th>25%</th>\n",
       "      <th>50%</th>\n",
       "      <th>75%</th>\n",
       "      <th>max</th>\n",
       "    </tr>\n",
       "    <tr>\n",
       "      <th>month</th>\n",
       "      <th></th>\n",
       "      <th></th>\n",
       "      <th></th>\n",
       "      <th></th>\n",
       "      <th></th>\n",
       "      <th></th>\n",
       "      <th></th>\n",
       "      <th></th>\n",
       "    </tr>\n",
       "  </thead>\n",
       "  <tbody>\n",
       "    <tr>\n",
       "      <th>April</th>\n",
       "      <td>4519.0</td>\n",
       "      <td>11.321361</td>\n",
       "      <td>9.487037</td>\n",
       "      <td>-2.5</td>\n",
       "      <td>6.0</td>\n",
       "      <td>8.5</td>\n",
       "      <td>12.5</td>\n",
       "      <td>93.75</td>\n",
       "    </tr>\n",
       "    <tr>\n",
       "      <th>August</th>\n",
       "      <td>3543.0</td>\n",
       "      <td>11.316616</td>\n",
       "      <td>10.315227</td>\n",
       "      <td>-3.0</td>\n",
       "      <td>6.0</td>\n",
       "      <td>8.5</td>\n",
       "      <td>12.5</td>\n",
       "      <td>165.00</td>\n",
       "    </tr>\n",
       "    <tr>\n",
       "      <th>December</th>\n",
       "      <td>4015.0</td>\n",
       "      <td>11.670543</td>\n",
       "      <td>10.212445</td>\n",
       "      <td>2.5</td>\n",
       "      <td>6.0</td>\n",
       "      <td>8.5</td>\n",
       "      <td>13.0</td>\n",
       "      <td>135.00</td>\n",
       "    </tr>\n",
       "    <tr>\n",
       "      <th>February</th>\n",
       "      <td>4302.0</td>\n",
       "      <td>10.933728</td>\n",
       "      <td>9.510653</td>\n",
       "      <td>0.0</td>\n",
       "      <td>6.0</td>\n",
       "      <td>8.1</td>\n",
       "      <td>12.1</td>\n",
       "      <td>200.00</td>\n",
       "    </tr>\n",
       "    <tr>\n",
       "      <th>January</th>\n",
       "      <td>4546.0</td>\n",
       "      <td>10.700930</td>\n",
       "      <td>9.235979</td>\n",
       "      <td>2.5</td>\n",
       "      <td>5.7</td>\n",
       "      <td>8.0</td>\n",
       "      <td>11.7</td>\n",
       "      <td>180.00</td>\n",
       "    </tr>\n",
       "    <tr>\n",
       "      <th>July</th>\n",
       "      <td>3656.0</td>\n",
       "      <td>10.937166</td>\n",
       "      <td>8.947714</td>\n",
       "      <td>2.5</td>\n",
       "      <td>6.0</td>\n",
       "      <td>8.1</td>\n",
       "      <td>12.1</td>\n",
       "      <td>120.00</td>\n",
       "    </tr>\n",
       "    <tr>\n",
       "      <th>June</th>\n",
       "      <td>4516.0</td>\n",
       "      <td>11.457146</td>\n",
       "      <td>9.267060</td>\n",
       "      <td>2.5</td>\n",
       "      <td>6.1</td>\n",
       "      <td>8.5</td>\n",
       "      <td>13.0</td>\n",
       "      <td>96.25</td>\n",
       "    </tr>\n",
       "    <tr>\n",
       "      <th>March</th>\n",
       "      <td>4671.0</td>\n",
       "      <td>11.085596</td>\n",
       "      <td>9.172258</td>\n",
       "      <td>-5.0</td>\n",
       "      <td>5.8</td>\n",
       "      <td>8.1</td>\n",
       "      <td>12.5</td>\n",
       "      <td>80.50</td>\n",
       "    </tr>\n",
       "    <tr>\n",
       "      <th>May</th>\n",
       "      <td>4612.0</td>\n",
       "      <td>11.868103</td>\n",
       "      <td>10.307439</td>\n",
       "      <td>0.0</td>\n",
       "      <td>6.1</td>\n",
       "      <td>8.9</td>\n",
       "      <td>13.3</td>\n",
       "      <td>160.00</td>\n",
       "    </tr>\n",
       "    <tr>\n",
       "      <th>November</th>\n",
       "      <td>3764.0</td>\n",
       "      <td>11.618807</td>\n",
       "      <td>9.977558</td>\n",
       "      <td>2.5</td>\n",
       "      <td>6.1</td>\n",
       "      <td>8.5</td>\n",
       "      <td>13.0</td>\n",
       "      <td>165.00</td>\n",
       "    </tr>\n",
       "    <tr>\n",
       "      <th>October</th>\n",
       "      <td>4046.0</td>\n",
       "      <td>11.573947</td>\n",
       "      <td>9.732684</td>\n",
       "      <td>2.5</td>\n",
       "      <td>6.0</td>\n",
       "      <td>8.5</td>\n",
       "      <td>12.9</td>\n",
       "      <td>100.00</td>\n",
       "    </tr>\n",
       "    <tr>\n",
       "      <th>September</th>\n",
       "      <td>3810.0</td>\n",
       "      <td>11.970438</td>\n",
       "      <td>10.031989</td>\n",
       "      <td>2.5</td>\n",
       "      <td>6.1</td>\n",
       "      <td>8.9</td>\n",
       "      <td>13.5</td>\n",
       "      <td>96.00</td>\n",
       "    </tr>\n",
       "  </tbody>\n",
       "</table>\n",
       "</div>"
      ],
      "text/plain": [
       "            count       mean        std  min  25%  50%   75%     max\n",
       "month                                                               \n",
       "April      4519.0  11.321361   9.487037 -2.5  6.0  8.5  12.5   93.75\n",
       "August     3543.0  11.316616  10.315227 -3.0  6.0  8.5  12.5  165.00\n",
       "December   4015.0  11.670543  10.212445  2.5  6.0  8.5  13.0  135.00\n",
       "February   4302.0  10.933728   9.510653  0.0  6.0  8.1  12.1  200.00\n",
       "January    4546.0  10.700930   9.235979  2.5  5.7  8.0  11.7  180.00\n",
       "July       3656.0  10.937166   8.947714  2.5  6.0  8.1  12.1  120.00\n",
       "June       4516.0  11.457146   9.267060  2.5  6.1  8.5  13.0   96.25\n",
       "March      4671.0  11.085596   9.172258 -5.0  5.8  8.1  12.5   80.50\n",
       "May        4612.0  11.868103  10.307439  0.0  6.1  8.9  13.3  160.00\n",
       "November   3764.0  11.618807   9.977558  2.5  6.1  8.5  13.0  165.00\n",
       "October    4046.0  11.573947   9.732684  2.5  6.0  8.5  12.9  100.00\n",
       "September  3810.0  11.970438  10.031989  2.5  6.1  8.9  13.5   96.00"
      ]
     },
     "execution_count": 31,
     "metadata": {},
     "output_type": "execute_result"
    }
   ],
   "source": [
    "tf.groupby('month')['amount'].describe()"
   ]
  },
  {
   "cell_type": "code",
   "execution_count": 32,
   "metadata": {},
   "outputs": [
    {
     "data": {
      "image/png": "[encoded data removed]",
      "text/plain": [
       "<Figure size 432x288 with 1 Axes>"
      ]
     },
     "metadata": {
      "needs_background": "light"
     },
     "output_type": "display_data"
    }
   ],
   "source": [
    "plt.plot(tf.groupby('month')['amount'].count())\n",
    "plt.xticks(rotation=90)\n",
    "plt.title(\"Monthwise counting\")\n",
    "plt.show()"
   ]
  },
  {
   "cell_type": "code",
   "execution_count": 33,
   "metadata": {},
   "outputs": [
    {
     "data": {
      "image/png": "[encoded data removed]",
      "text/plain": [
       "<Figure size 432x288 with 1 Axes>"
      ]
     },
     "metadata": {
      "needs_background": "light"
     },
     "output_type": "display_data"
    }
   ],
   "source": [
    "plt.plot(tf.groupby('month')['amount'].mean())\n",
    "plt.xticks(rotation=90)\n",
    "plt.title(\"Monthwise Mean Fare\")\n",
    "plt.show()"
   ]
  },
  {
   "cell_type": "code",
   "execution_count": 34,
   "metadata": {},
   "outputs": [],
   "source": [
    "month = {'January':1, 'February':2, 'March':3, 'April':4, 'May':5,\n",
    "         'June':6, 'July':7, 'August':8, 'September':9, 'October':10,\n",
    "         'November':11, 'December':12}"
   ]
  },
  {
   "cell_type": "code",
   "execution_count": 35,
   "metadata": {},
   "outputs": [
    {
     "name": "stdout",
     "output_type": "stream",
     "text": [
      "0         6\n",
      "1         1\n",
      "2         8\n",
      "3         4\n",
      "4         3\n",
      "         ..\n",
      "49995     6\n",
      "49996     6\n",
      "49997     1\n",
      "49998    11\n",
      "49999     1\n",
      "Name: month, Length: 50000, dtype: int64\n"
     ]
    }
   ],
   "source": [
    "tf.month = [month[item] for item in tf.month]\n",
    "print(tf.month)"
   ]
  },
  {
   "cell_type": "code",
   "execution_count": 36,
   "metadata": {},
   "outputs": [
    {
     "data": {
      "text/plain": [
       "0         6\n",
       "1         1\n",
       "2         8\n",
       "3         4\n",
       "4         3\n",
       "         ..\n",
       "49995     6\n",
       "49996     6\n",
       "49997     1\n",
       "49998    11\n",
       "49999     1\n",
       "Name: month, Length: 50000, dtype: int64"
      ]
     },
     "execution_count": 36,
     "metadata": {},
     "output_type": "execute_result"
    }
   ],
   "source": [
    "tf.month"
   ]
  },
  {
   "cell_type": "code",
   "execution_count": 37,
   "metadata": {},
   "outputs": [
    {
     "data": {
      "image/png": "[encoded data removed]",
      "text/plain": [
       "<Figure size 432x288 with 1 Axes>"
      ]
     },
     "metadata": {
      "needs_background": "light"
     },
     "output_type": "display_data"
    }
   ],
   "source": [
    "plt.plot(tf.groupby('month')['amount'].count())\n",
    "plt.xticks(rotation=90)\n",
    "plt.title(\"Monthwise counting\")\n",
    "plt.show()"
   ]
  },
  {
   "cell_type": "code",
   "execution_count": 38,
   "metadata": {},
   "outputs": [
    {
     "data": {
      "image/png": "[encoded data removed]",
      "text/plain": [
       "<Figure size 432x288 with 1 Axes>"
      ]
     },
     "metadata": {
      "needs_background": "light"
     },
     "output_type": "display_data"
    }
   ],
   "source": [
    "plt.plot(tf.groupby('month')['amount'].mean())\n",
    "plt.xticks(rotation=90)\n",
    "plt.title(\"Monthwise Mean Fare\")\n",
    "plt.show()\n"
   ]
  },
  {
   "cell_type": "markdown",
   "metadata": {},
   "source": [
    "day"
   ]
  },
  {
   "cell_type": "code",
   "execution_count": 39,
   "metadata": {},
   "outputs": [
    {
     "data": {
      "text/plain": [
       "Text(0.5, 1.0, 'Weekday wise counting')"
      ]
     },
     "execution_count": 39,
     "metadata": {},
     "output_type": "execute_result"
    },
    {
     "data": {
      "image/png": "[encoded data removed]",
      "text/plain": [
       "<Figure size 432x288 with 1 Axes>"
      ]
     },
     "metadata": {
      "needs_background": "light"
     },
     "output_type": "display_data"
    }
   ],
   "source": [
    "sns.countplot(x='day', data=tf)\n",
    "plt.xlabel(\"Weekdays\")\n",
    "plt.ylabel('counts')\n",
    "plt.title(\"Weekday wise counting\")"
   ]
  },
  {
   "cell_type": "code",
   "execution_count": 40,
   "metadata": {},
   "outputs": [
    {
     "data": {
      "text/html": [
       "<div>\n",
       "<style scoped>\n",
       "    .dataframe tbody tr th:only-of-type {\n",
       "        vertical-align: middle;\n",
       "    }\n",
       "\n",
       "    .dataframe tbody tr th {\n",
       "        vertical-align: top;\n",
       "    }\n",
       "\n",
       "    .dataframe thead th {\n",
       "        text-align: right;\n",
       "    }\n",
       "</style>\n",
       "<table border=\"1\" class=\"dataframe\">\n",
       "  <thead>\n",
       "    <tr style=\"text-align: right;\">\n",
       "      <th></th>\n",
       "      <th>count</th>\n",
       "      <th>mean</th>\n",
       "      <th>std</th>\n",
       "      <th>min</th>\n",
       "      <th>25%</th>\n",
       "      <th>50%</th>\n",
       "      <th>75%</th>\n",
       "      <th>max</th>\n",
       "    </tr>\n",
       "    <tr>\n",
       "      <th>day</th>\n",
       "      <th></th>\n",
       "      <th></th>\n",
       "      <th></th>\n",
       "      <th></th>\n",
       "      <th></th>\n",
       "      <th></th>\n",
       "      <th></th>\n",
       "      <th></th>\n",
       "    </tr>\n",
       "  </thead>\n",
       "  <tbody>\n",
       "    <tr>\n",
       "      <th>Friday</th>\n",
       "      <td>7668.0</td>\n",
       "      <td>11.402240</td>\n",
       "      <td>9.508604</td>\n",
       "      <td>-3.0</td>\n",
       "      <td>6.1</td>\n",
       "      <td>8.5</td>\n",
       "      <td>13.0</td>\n",
       "      <td>165.00</td>\n",
       "    </tr>\n",
       "    <tr>\n",
       "      <th>Monday</th>\n",
       "      <td>6639.0</td>\n",
       "      <td>11.569060</td>\n",
       "      <td>10.536296</td>\n",
       "      <td>-5.0</td>\n",
       "      <td>6.0</td>\n",
       "      <td>8.1</td>\n",
       "      <td>12.5</td>\n",
       "      <td>160.00</td>\n",
       "    </tr>\n",
       "    <tr>\n",
       "      <th>Saturday</th>\n",
       "      <td>7630.0</td>\n",
       "      <td>11.142731</td>\n",
       "      <td>9.201668</td>\n",
       "      <td>2.5</td>\n",
       "      <td>6.0</td>\n",
       "      <td>8.5</td>\n",
       "      <td>12.5</td>\n",
       "      <td>165.00</td>\n",
       "    </tr>\n",
       "    <tr>\n",
       "      <th>Sunday</th>\n",
       "      <td>6518.0</td>\n",
       "      <td>11.520578</td>\n",
       "      <td>9.954766</td>\n",
       "      <td>-2.5</td>\n",
       "      <td>6.0</td>\n",
       "      <td>8.5</td>\n",
       "      <td>13.0</td>\n",
       "      <td>200.00</td>\n",
       "    </tr>\n",
       "    <tr>\n",
       "      <th>Thursday</th>\n",
       "      <td>7406.0</td>\n",
       "      <td>11.668594</td>\n",
       "      <td>9.983516</td>\n",
       "      <td>-2.5</td>\n",
       "      <td>6.0</td>\n",
       "      <td>8.5</td>\n",
       "      <td>13.0</td>\n",
       "      <td>149.00</td>\n",
       "    </tr>\n",
       "    <tr>\n",
       "      <th>Tuesday</th>\n",
       "      <td>6927.0</td>\n",
       "      <td>11.166999</td>\n",
       "      <td>9.282690</td>\n",
       "      <td>-2.9</td>\n",
       "      <td>6.0</td>\n",
       "      <td>8.5</td>\n",
       "      <td>12.5</td>\n",
       "      <td>92.49</td>\n",
       "    </tr>\n",
       "    <tr>\n",
       "      <th>Wednesday</th>\n",
       "      <td>7212.0</td>\n",
       "      <td>11.104773</td>\n",
       "      <td>9.357399</td>\n",
       "      <td>2.5</td>\n",
       "      <td>6.0</td>\n",
       "      <td>8.5</td>\n",
       "      <td>12.5</td>\n",
       "      <td>180.00</td>\n",
       "    </tr>\n",
       "  </tbody>\n",
       "</table>\n",
       "</div>"
      ],
      "text/plain": [
       "            count       mean        std  min  25%  50%   75%     max\n",
       "day                                                                 \n",
       "Friday     7668.0  11.402240   9.508604 -3.0  6.1  8.5  13.0  165.00\n",
       "Monday     6639.0  11.569060  10.536296 -5.0  6.0  8.1  12.5  160.00\n",
       "Saturday   7630.0  11.142731   9.201668  2.5  6.0  8.5  12.5  165.00\n",
       "Sunday     6518.0  11.520578   9.954766 -2.5  6.0  8.5  13.0  200.00\n",
       "Thursday   7406.0  11.668594   9.983516 -2.5  6.0  8.5  13.0  149.00\n",
       "Tuesday    6927.0  11.166999   9.282690 -2.9  6.0  8.5  12.5   92.49\n",
       "Wednesday  7212.0  11.104773   9.357399  2.5  6.0  8.5  12.5  180.00"
      ]
     },
     "execution_count": 40,
     "metadata": {},
     "output_type": "execute_result"
    }
   ],
   "source": [
    "tf.groupby('day')['amount'].describe()"
   ]
  },
  {
   "cell_type": "code",
   "execution_count": 41,
   "metadata": {},
   "outputs": [
    {
     "data": {
      "image/png": "[encoded data removed]",
      "text/plain": [
       "<Figure size 432x288 with 1 Axes>"
      ]
     },
     "metadata": {
      "needs_background": "light"
     },
     "output_type": "display_data"
    }
   ],
   "source": [
    "plt.plot(tf.groupby('day')['amount'].count())\n",
    "plt.title(\"Daywise counts\")\n",
    "plt.show()"
   ]
  },
  {
   "cell_type": "code",
   "execution_count": 42,
   "metadata": {},
   "outputs": [
    {
     "data": {
      "image/png": "[encoded data removed]",
      "text/plain": [
       "<Figure size 432x288 with 1 Axes>"
      ]
     },
     "metadata": {
      "needs_background": "light"
     },
     "output_type": "display_data"
    }
   ],
   "source": [
    "plt.plot(tf.groupby('day')['amount'].mean())\n",
    "plt.title(\"Daywise mean fare\")\n",
    "plt.show()"
   ]
  },
  {
   "cell_type": "code",
   "execution_count": 43,
   "metadata": {},
   "outputs": [],
   "source": [
    "day = {'Sunday':1,'Monday':2, 'Tuesday':3, 'Wednesday':4, 'Thursday':5, \n",
    "       'Friday':6, 'Saturday':7 }"
   ]
  },
  {
   "cell_type": "code",
   "execution_count": 44,
   "metadata": {},
   "outputs": [
    {
     "data": {
      "text/plain": [
       "0    2\n",
       "1    3\n",
       "2    5\n",
       "3    7\n",
       "4    3\n",
       "Name: day, dtype: int64"
      ]
     },
     "execution_count": 44,
     "metadata": {},
     "output_type": "execute_result"
    }
   ],
   "source": [
    "tf.day = [day[item] for item in tf.day]\n",
    "tf.day.head()\n"
   ]
  },
  {
   "cell_type": "code",
   "execution_count": 45,
   "metadata": {},
   "outputs": [
    {
     "name": "stdout",
     "output_type": "stream",
     "text": [
      "<class 'pandas.core.frame.DataFrame'>\n",
      "RangeIndex: 50000 entries, 0 to 49999\n",
      "Data columns (total 12 columns):\n",
      " #   Column                Non-Null Count  Dtype              \n",
      "---  ------                --------------  -----              \n",
      " 0   unique_id             50000 non-null  object             \n",
      " 1   amount                50000 non-null  float64            \n",
      " 2   date_time_of_pickup   50000 non-null  datetime64[ns, UTC]\n",
      " 3   longitude_of_pickup   50000 non-null  float64            \n",
      " 4   latitude_of_pickup    50000 non-null  float64            \n",
      " 5   longitude_of_dropoff  50000 non-null  float64            \n",
      " 6   latitude_of_dropoff   50000 non-null  float64            \n",
      " 7   no_of_passenger       50000 non-null  int64              \n",
      " 8   year                  50000 non-null  int64              \n",
      " 9   month                 50000 non-null  int64              \n",
      " 10  day                   50000 non-null  int64              \n",
      " 11  hour                  50000 non-null  int64              \n",
      "dtypes: datetime64[ns, UTC](1), float64(5), int64(5), object(1)\n",
      "memory usage: 4.6+ MB\n"
     ]
    }
   ],
   "source": [
    "tf.info()"
   ]
  },
  {
   "cell_type": "code",
   "execution_count": 46,
   "metadata": {},
   "outputs": [
    {
     "data": {
      "image/png": "[encoded data removed]",
      "text/plain": [
       "<Figure size 432x288 with 1 Axes>"
      ]
     },
     "metadata": {
      "needs_background": "light"
     },
     "output_type": "display_data"
    }
   ],
   "source": [
    "plt.plot(tf.groupby('day')['amount'].count())\n",
    "plt.title(\"Daywise counts\")\n",
    "plt.show()"
   ]
  },
  {
   "cell_type": "code",
   "execution_count": 47,
   "metadata": {},
   "outputs": [
    {
     "data": {
      "image/png": "[encoded data removed]",
      "text/plain": [
       "<Figure size 432x288 with 1 Axes>"
      ]
     },
     "metadata": {
      "needs_background": "light"
     },
     "output_type": "display_data"
    }
   ],
   "source": [
    "plt.plot(tf.groupby('day')['amount'].mean())\n",
    "plt.title(\"Daywise mean fare\")\n",
    "plt.show()"
   ]
  },
  {
   "cell_type": "markdown",
   "metadata": {},
   "source": [
    "hour"
   ]
  },
  {
   "cell_type": "code",
   "execution_count": 48,
   "metadata": {},
   "outputs": [
    {
     "data": {
      "text/plain": [
       "Text(0.5, 1.0, 'Hourly counting')"
      ]
     },
     "execution_count": 48,
     "metadata": {},
     "output_type": "execute_result"
    },
    {
     "data": {
      "image/png": "[encoded data removed]",
      "text/plain": [
       "<Figure size 432x288 with 1 Axes>"
      ]
     },
     "metadata": {
      "needs_background": "light"
     },
     "output_type": "display_data"
    }
   ],
   "source": [
    "sns.countplot(x='hour', data=tf)\n",
    "plt.xlabel(\"Hour's\")\n",
    "plt.ylabel('counts')\n",
    "plt.title(\"Hourly counting\")"
   ]
  },
  {
   "cell_type": "code",
   "execution_count": 49,
   "metadata": {},
   "outputs": [
    {
     "data": {
      "text/html": [
       "<div>\n",
       "<style scoped>\n",
       "    .dataframe tbody tr th:only-of-type {\n",
       "        vertical-align: middle;\n",
       "    }\n",
       "\n",
       "    .dataframe tbody tr th {\n",
       "        vertical-align: top;\n",
       "    }\n",
       "\n",
       "    .dataframe thead th {\n",
       "        text-align: right;\n",
       "    }\n",
       "</style>\n",
       "<table border=\"1\" class=\"dataframe\">\n",
       "  <thead>\n",
       "    <tr style=\"text-align: right;\">\n",
       "      <th></th>\n",
       "      <th>count</th>\n",
       "      <th>mean</th>\n",
       "      <th>std</th>\n",
       "      <th>min</th>\n",
       "      <th>25%</th>\n",
       "      <th>50%</th>\n",
       "      <th>75%</th>\n",
       "      <th>max</th>\n",
       "    </tr>\n",
       "    <tr>\n",
       "      <th>hour</th>\n",
       "      <th></th>\n",
       "      <th></th>\n",
       "      <th></th>\n",
       "      <th></th>\n",
       "      <th></th>\n",
       "      <th></th>\n",
       "      <th></th>\n",
       "      <th></th>\n",
       "    </tr>\n",
       "  </thead>\n",
       "  <tbody>\n",
       "    <tr>\n",
       "      <th>0</th>\n",
       "      <td>1890.0</td>\n",
       "      <td>11.922873</td>\n",
       "      <td>8.592224</td>\n",
       "      <td>2.5</td>\n",
       "      <td>6.50</td>\n",
       "      <td>9.30</td>\n",
       "      <td>14.50</td>\n",
       "      <td>88.25</td>\n",
       "    </tr>\n",
       "    <tr>\n",
       "      <th>1</th>\n",
       "      <td>1484.0</td>\n",
       "      <td>11.726065</td>\n",
       "      <td>9.043038</td>\n",
       "      <td>2.5</td>\n",
       "      <td>6.50</td>\n",
       "      <td>9.00</td>\n",
       "      <td>14.10</td>\n",
       "      <td>128.83</td>\n",
       "    </tr>\n",
       "    <tr>\n",
       "      <th>2</th>\n",
       "      <td>1088.0</td>\n",
       "      <td>11.246765</td>\n",
       "      <td>8.628222</td>\n",
       "      <td>2.5</td>\n",
       "      <td>6.10</td>\n",
       "      <td>8.90</td>\n",
       "      <td>13.70</td>\n",
       "      <td>136.00</td>\n",
       "    </tr>\n",
       "    <tr>\n",
       "      <th>3</th>\n",
       "      <td>847.0</td>\n",
       "      <td>12.087237</td>\n",
       "      <td>12.358673</td>\n",
       "      <td>2.5</td>\n",
       "      <td>6.00</td>\n",
       "      <td>8.90</td>\n",
       "      <td>14.50</td>\n",
       "      <td>200.00</td>\n",
       "    </tr>\n",
       "    <tr>\n",
       "      <th>4</th>\n",
       "      <td>610.0</td>\n",
       "      <td>13.740623</td>\n",
       "      <td>10.944349</td>\n",
       "      <td>2.5</td>\n",
       "      <td>6.50</td>\n",
       "      <td>10.00</td>\n",
       "      <td>17.70</td>\n",
       "      <td>80.35</td>\n",
       "    </tr>\n",
       "    <tr>\n",
       "      <th>5</th>\n",
       "      <td>508.0</td>\n",
       "      <td>15.338209</td>\n",
       "      <td>14.856332</td>\n",
       "      <td>-2.5</td>\n",
       "      <td>5.95</td>\n",
       "      <td>9.15</td>\n",
       "      <td>18.60</td>\n",
       "      <td>82.50</td>\n",
       "    </tr>\n",
       "    <tr>\n",
       "      <th>6</th>\n",
       "      <td>1017.0</td>\n",
       "      <td>12.280570</td>\n",
       "      <td>12.168081</td>\n",
       "      <td>2.5</td>\n",
       "      <td>5.30</td>\n",
       "      <td>7.70</td>\n",
       "      <td>12.50</td>\n",
       "      <td>78.50</td>\n",
       "    </tr>\n",
       "    <tr>\n",
       "      <th>7</th>\n",
       "      <td>1899.0</td>\n",
       "      <td>11.121827</td>\n",
       "      <td>10.251250</td>\n",
       "      <td>2.5</td>\n",
       "      <td>5.70</td>\n",
       "      <td>8.00</td>\n",
       "      <td>11.70</td>\n",
       "      <td>87.00</td>\n",
       "    </tr>\n",
       "    <tr>\n",
       "      <th>8</th>\n",
       "      <td>2209.0</td>\n",
       "      <td>10.611852</td>\n",
       "      <td>8.604485</td>\n",
       "      <td>-3.0</td>\n",
       "      <td>6.00</td>\n",
       "      <td>8.10</td>\n",
       "      <td>11.70</td>\n",
       "      <td>95.00</td>\n",
       "    </tr>\n",
       "    <tr>\n",
       "      <th>9</th>\n",
       "      <td>2379.0</td>\n",
       "      <td>10.533871</td>\n",
       "      <td>8.120353</td>\n",
       "      <td>2.5</td>\n",
       "      <td>5.70</td>\n",
       "      <td>8.10</td>\n",
       "      <td>12.00</td>\n",
       "      <td>79.00</td>\n",
       "    </tr>\n",
       "    <tr>\n",
       "      <th>10</th>\n",
       "      <td>2259.0</td>\n",
       "      <td>10.852470</td>\n",
       "      <td>9.561050</td>\n",
       "      <td>-5.0</td>\n",
       "      <td>5.70</td>\n",
       "      <td>8.10</td>\n",
       "      <td>11.85</td>\n",
       "      <td>135.00</td>\n",
       "    </tr>\n",
       "    <tr>\n",
       "      <th>11</th>\n",
       "      <td>2357.0</td>\n",
       "      <td>11.087968</td>\n",
       "      <td>9.610039</td>\n",
       "      <td>2.5</td>\n",
       "      <td>6.00</td>\n",
       "      <td>8.10</td>\n",
       "      <td>12.50</td>\n",
       "      <td>160.00</td>\n",
       "    </tr>\n",
       "    <tr>\n",
       "      <th>12</th>\n",
       "      <td>2471.0</td>\n",
       "      <td>11.263934</td>\n",
       "      <td>9.196111</td>\n",
       "      <td>2.5</td>\n",
       "      <td>6.00</td>\n",
       "      <td>8.50</td>\n",
       "      <td>12.50</td>\n",
       "      <td>89.90</td>\n",
       "    </tr>\n",
       "    <tr>\n",
       "      <th>13</th>\n",
       "      <td>2475.0</td>\n",
       "      <td>11.654630</td>\n",
       "      <td>10.237041</td>\n",
       "      <td>-2.5</td>\n",
       "      <td>6.10</td>\n",
       "      <td>8.50</td>\n",
       "      <td>12.50</td>\n",
       "      <td>93.75</td>\n",
       "    </tr>\n",
       "    <tr>\n",
       "      <th>14</th>\n",
       "      <td>2471.0</td>\n",
       "      <td>12.086860</td>\n",
       "      <td>10.670418</td>\n",
       "      <td>0.0</td>\n",
       "      <td>6.10</td>\n",
       "      <td>8.50</td>\n",
       "      <td>13.00</td>\n",
       "      <td>88.00</td>\n",
       "    </tr>\n",
       "    <tr>\n",
       "      <th>15</th>\n",
       "      <td>2355.0</td>\n",
       "      <td>12.070505</td>\n",
       "      <td>11.269364</td>\n",
       "      <td>-2.5</td>\n",
       "      <td>6.00</td>\n",
       "      <td>8.50</td>\n",
       "      <td>12.90</td>\n",
       "      <td>104.67</td>\n",
       "    </tr>\n",
       "    <tr>\n",
       "      <th>16</th>\n",
       "      <td>2045.0</td>\n",
       "      <td>12.241614</td>\n",
       "      <td>11.503268</td>\n",
       "      <td>2.5</td>\n",
       "      <td>5.70</td>\n",
       "      <td>8.10</td>\n",
       "      <td>12.90</td>\n",
       "      <td>82.50</td>\n",
       "    </tr>\n",
       "    <tr>\n",
       "      <th>17</th>\n",
       "      <td>2490.0</td>\n",
       "      <td>11.331663</td>\n",
       "      <td>9.927398</td>\n",
       "      <td>2.5</td>\n",
       "      <td>6.00</td>\n",
       "      <td>8.50</td>\n",
       "      <td>12.50</td>\n",
       "      <td>120.00</td>\n",
       "    </tr>\n",
       "    <tr>\n",
       "      <th>18</th>\n",
       "      <td>3077.0</td>\n",
       "      <td>11.150640</td>\n",
       "      <td>9.525704</td>\n",
       "      <td>2.5</td>\n",
       "      <td>6.00</td>\n",
       "      <td>8.50</td>\n",
       "      <td>12.50</td>\n",
       "      <td>143.00</td>\n",
       "    </tr>\n",
       "    <tr>\n",
       "      <th>19</th>\n",
       "      <td>3118.0</td>\n",
       "      <td>10.734413</td>\n",
       "      <td>8.577008</td>\n",
       "      <td>0.0</td>\n",
       "      <td>6.00</td>\n",
       "      <td>8.10</td>\n",
       "      <td>12.10</td>\n",
       "      <td>92.49</td>\n",
       "    </tr>\n",
       "    <tr>\n",
       "      <th>20</th>\n",
       "      <td>2859.0</td>\n",
       "      <td>10.736439</td>\n",
       "      <td>9.028118</td>\n",
       "      <td>2.5</td>\n",
       "      <td>6.10</td>\n",
       "      <td>8.10</td>\n",
       "      <td>12.00</td>\n",
       "      <td>180.00</td>\n",
       "    </tr>\n",
       "    <tr>\n",
       "      <th>21</th>\n",
       "      <td>2817.0</td>\n",
       "      <td>11.062478</td>\n",
       "      <td>9.081034</td>\n",
       "      <td>0.0</td>\n",
       "      <td>6.10</td>\n",
       "      <td>8.50</td>\n",
       "      <td>12.50</td>\n",
       "      <td>165.00</td>\n",
       "    </tr>\n",
       "    <tr>\n",
       "      <th>22</th>\n",
       "      <td>2808.0</td>\n",
       "      <td>11.035808</td>\n",
       "      <td>8.064685</td>\n",
       "      <td>2.5</td>\n",
       "      <td>6.10</td>\n",
       "      <td>8.50</td>\n",
       "      <td>12.90</td>\n",
       "      <td>85.00</td>\n",
       "    </tr>\n",
       "    <tr>\n",
       "      <th>23</th>\n",
       "      <td>2467.0</td>\n",
       "      <td>11.355910</td>\n",
       "      <td>8.905995</td>\n",
       "      <td>-2.9</td>\n",
       "      <td>6.10</td>\n",
       "      <td>8.50</td>\n",
       "      <td>13.30</td>\n",
       "      <td>128.61</td>\n",
       "    </tr>\n",
       "  </tbody>\n",
       "</table>\n",
       "</div>"
      ],
      "text/plain": [
       "       count       mean        std  min   25%    50%    75%     max\n",
       "hour                                                               \n",
       "0     1890.0  11.922873   8.592224  2.5  6.50   9.30  14.50   88.25\n",
       "1     1484.0  11.726065   9.043038  2.5  6.50   9.00  14.10  128.83\n",
       "2     1088.0  11.246765   8.628222  2.5  6.10   8.90  13.70  136.00\n",
       "3      847.0  12.087237  12.358673  2.5  6.00   8.90  14.50  200.00\n",
       "4      610.0  13.740623  10.944349  2.5  6.50  10.00  17.70   80.35\n",
       "5      508.0  15.338209  14.856332 -2.5  5.95   9.15  18.60   82.50\n",
       "6     1017.0  12.280570  12.168081  2.5  5.30   7.70  12.50   78.50\n",
       "7     1899.0  11.121827  10.251250  2.5  5.70   8.00  11.70   87.00\n",
       "8     2209.0  10.611852   8.604485 -3.0  6.00   8.10  11.70   95.00\n",
       "9     2379.0  10.533871   8.120353  2.5  5.70   8.10  12.00   79.00\n",
       "10    2259.0  10.852470   9.561050 -5.0  5.70   8.10  11.85  135.00\n",
       "11    2357.0  11.087968   9.610039  2.5  6.00   8.10  12.50  160.00\n",
       "12    2471.0  11.263934   9.196111  2.5  6.00   8.50  12.50   89.90\n",
       "13    2475.0  11.654630  10.237041 -2.5  6.10   8.50  12.50   93.75\n",
       "14    2471.0  12.086860  10.670418  0.0  6.10   8.50  13.00   88.00\n",
       "15    2355.0  12.070505  11.269364 -2.5  6.00   8.50  12.90  104.67\n",
       "16    2045.0  12.241614  11.503268  2.5  5.70   8.10  12.90   82.50\n",
       "17    2490.0  11.331663   9.927398  2.5  6.00   8.50  12.50  120.00\n",
       "18    3077.0  11.150640   9.525704  2.5  6.00   8.50  12.50  143.00\n",
       "19    3118.0  10.734413   8.577008  0.0  6.00   8.10  12.10   92.49\n",
       "20    2859.0  10.736439   9.028118  2.5  6.10   8.10  12.00  180.00\n",
       "21    2817.0  11.062478   9.081034  0.0  6.10   8.50  12.50  165.00\n",
       "22    2808.0  11.035808   8.064685  2.5  6.10   8.50  12.90   85.00\n",
       "23    2467.0  11.355910   8.905995 -2.9  6.10   8.50  13.30  128.61"
      ]
     },
     "execution_count": 49,
     "metadata": {},
     "output_type": "execute_result"
    },
    {
     "data": {
      "image/png": "[encoded data removed]",
      "text/plain": [
       "<Figure size 432x288 with 1 Axes>"
      ]
     },
     "metadata": {
      "needs_background": "light"
     },
     "output_type": "display_data"
    }
   ],
   "source": [
    "props2 = dict(boxes = 'red', whiskers = 'green', medians = 'black', caps = 'red')\n",
    "tf.hour.plot.box(color=props2, patch_artist = True, vert = False)\n",
    "tf.groupby('hour')['amount'].describe()"
   ]
  },
  {
   "cell_type": "code",
   "execution_count": 50,
   "metadata": {},
   "outputs": [
    {
     "data": {
      "image/png": "[encoded data removed]",
      "text/plain": [
       "<Figure size 432x288 with 1 Axes>"
      ]
     },
     "metadata": {
      "needs_background": "light"
     },
     "output_type": "display_data"
    }
   ],
   "source": [
    "plt.plot(tf.groupby('hour')['amount'].mean())\n",
    "plt.title(\"Hourly mean fare\")\n",
    "plt.show()"
   ]
  },
  {
   "cell_type": "code",
   "execution_count": 51,
   "metadata": {},
   "outputs": [
    {
     "data": {
      "image/png": "[encoded data removed]",
      "text/plain": [
       "<Figure size 432x288 with 1 Axes>"
      ]
     },
     "metadata": {
      "needs_background": "light"
     },
     "output_type": "display_data"
    }
   ],
   "source": [
    "plt.plot(tf.groupby('hour')['amount'].count())\n",
    "plt.title(\"Hourly counts\")\n",
    "plt.show()"
   ]
  },
  {
   "cell_type": "markdown",
   "metadata": {},
   "source": [
    "# longitude_of_pickup"
   ]
  },
  {
   "cell_type": "code",
   "execution_count": 52,
   "metadata": {},
   "outputs": [
    {
     "name": "stdout",
     "output_type": "stream",
     "text": [
      "<class 'pandas.core.frame.DataFrame'>\n",
      "RangeIndex: 50000 entries, 0 to 49999\n",
      "Data columns (total 12 columns):\n",
      " #   Column                Non-Null Count  Dtype              \n",
      "---  ------                --------------  -----              \n",
      " 0   unique_id             50000 non-null  object             \n",
      " 1   amount                50000 non-null  float64            \n",
      " 2   date_time_of_pickup   50000 non-null  datetime64[ns, UTC]\n",
      " 3   longitude_of_pickup   50000 non-null  float64            \n",
      " 4   latitude_of_pickup    50000 non-null  float64            \n",
      " 5   longitude_of_dropoff  50000 non-null  float64            \n",
      " 6   latitude_of_dropoff   50000 non-null  float64            \n",
      " 7   no_of_passenger       50000 non-null  int64              \n",
      " 8   year                  50000 non-null  int64              \n",
      " 9   month                 50000 non-null  int64              \n",
      " 10  day                   50000 non-null  int64              \n",
      " 11  hour                  50000 non-null  int64              \n",
      "dtypes: datetime64[ns, UTC](1), float64(5), int64(5), object(1)\n",
      "memory usage: 4.6+ MB\n"
     ]
    }
   ],
   "source": [
    "tf.info()"
   ]
  },
  {
   "cell_type": "code",
   "execution_count": 53,
   "metadata": {},
   "outputs": [
    {
     "data": {
      "text/plain": [
       "count    50000.000000\n",
       "mean       -72.509756\n",
       "std         10.393860\n",
       "min        -75.423848\n",
       "25%        -73.992062\n",
       "50%        -73.981840\n",
       "75%        -73.967148\n",
       "max         40.783472\n",
       "Name: longitude_of_pickup, dtype: float64"
      ]
     },
     "execution_count": 53,
     "metadata": {},
     "output_type": "execute_result"
    }
   ],
   "source": [
    "tf.longitude_of_pickup.describe()"
   ]
  },
  {
   "cell_type": "code",
   "execution_count": 54,
   "metadata": {},
   "outputs": [
    {
     "data": {
      "text/plain": [
       "<AxesSubplot:>"
      ]
     },
     "execution_count": 54,
     "metadata": {},
     "output_type": "execute_result"
    },
    {
     "data": {
      "image/png": "[encoded data removed]",
      "text/plain": [
       "<Figure size 432x288 with 1 Axes>"
      ]
     },
     "metadata": {
      "needs_background": "light"
     },
     "output_type": "display_data"
    }
   ],
   "source": [
    "props2 = dict(boxes = 'red', whiskers = 'green', medians = 'black', caps = 'red')\n",
    "tf.longitude_of_pickup.plot.box(color=props2, patch_artist = True, vert = False)"
   ]
  },
  {
   "cell_type": "code",
   "execution_count": 55,
   "metadata": {},
   "outputs": [],
   "source": [
    "iqr = tf.longitude_of_pickup.describe()['75%'] - tf.longitude_of_pickup.describe()['25%']"
   ]
  },
  {
   "cell_type": "code",
   "execution_count": 172,
   "metadata": {},
   "outputs": [
    {
     "name": "stdout",
     "output_type": "stream",
     "text": [
      "-74.04275450000002\n"
     ]
    },
    {
     "data": {
      "text/plain": [
       "44"
      ]
     },
     "execution_count": 172,
     "metadata": {},
     "output_type": "execute_result"
    }
   ],
   "source": [
    "low_lim = tf.longitude_of_pickup.describe()['25%']-1.5*iqr \n",
    "print(low_lim)\n",
    "\n",
    "len(tf.longitude_of_pickup[tf.longitude_of_pickup < low_lim])"
   ]
  },
  {
   "cell_type": "code",
   "execution_count": 173,
   "metadata": {},
   "outputs": [
    {
     "name": "stdout",
     "output_type": "stream",
     "text": [
      "-73.91645799999999\n"
     ]
    },
    {
     "data": {
      "text/plain": [
       "3097"
      ]
     },
     "execution_count": 173,
     "metadata": {},
     "output_type": "execute_result"
    }
   ],
   "source": [
    "up_lim = tf.longitude_of_pickup.describe()['75%']+1.5*iqr\n",
    "print(up_lim)\n",
    "len(tf.longitude_of_pickup[tf.longitude_of_pickup > up_lim])\n"
   ]
  },
  {
   "cell_type": "code",
   "execution_count": 58,
   "metadata": {},
   "outputs": [
    {
     "data": {
      "text/plain": [
       "983"
      ]
     },
     "execution_count": 58,
     "metadata": {},
     "output_type": "execute_result"
    }
   ],
   "source": [
    "len(tf.longitude_of_pickup[tf.longitude_of_pickup > -73])"
   ]
  },
  {
   "cell_type": "code",
   "execution_count": 59,
   "metadata": {},
   "outputs": [
    {
     "name": "stdout",
     "output_type": "stream",
     "text": [
      "-74.0 43396\n",
      "-73.9 2973\n",
      "-73.80000000000001 1771\n",
      "-73.70000000000002 1016\n",
      "-73.60000000000002 1007\n",
      "-73.50000000000003 1005\n",
      "-73.40000000000003 1002\n",
      "-73.30000000000004 1001\n",
      "-73.20000000000005 1001\n",
      "-73.10000000000005 983\n",
      "-73.00000000000006 983\n",
      "-72.90000000000006 983\n",
      "-72.80000000000007 981\n",
      "-72.70000000000007 981\n",
      "-72.60000000000008 981\n",
      "-72.50000000000009 981\n",
      "-72.40000000000009 981\n",
      "-72.3000000000001 981\n",
      "-72.2000000000001 981\n",
      "-72.10000000000011 981\n"
     ]
    }
   ],
   "source": [
    "for i in np.arange(-74,-72,.1):\n",
    "    outliers = len(tf.longitude_of_pickup[tf.longitude_of_pickup > i])\n",
    "    print(i, outliers)"
   ]
  },
  {
   "cell_type": "markdown",
   "metadata": {},
   "source": [
    "# latitude_of_pickup"
   ]
  },
  {
   "cell_type": "code",
   "execution_count": 60,
   "metadata": {},
   "outputs": [
    {
     "data": {
      "text/plain": [
       "count    50000.000000\n",
       "mean        39.933759\n",
       "std          6.224857\n",
       "min        -74.006893\n",
       "25%         40.734880\n",
       "50%         40.752678\n",
       "75%         40.767360\n",
       "max        401.083332\n",
       "Name: latitude_of_pickup, dtype: float64"
      ]
     },
     "execution_count": 60,
     "metadata": {},
     "output_type": "execute_result"
    }
   ],
   "source": [
    "tf.latitude_of_pickup.describe()"
   ]
  },
  {
   "cell_type": "code",
   "execution_count": 61,
   "metadata": {},
   "outputs": [
    {
     "data": {
      "text/plain": [
       "<AxesSubplot:>"
      ]
     },
     "execution_count": 61,
     "metadata": {},
     "output_type": "execute_result"
    },
    {
     "data": {
      "image/png": "[encoded data removed]",
      "text/plain": [
       "<Figure size 432x288 with 1 Axes>"
      ]
     },
     "metadata": {
      "needs_background": "light"
     },
     "output_type": "display_data"
    }
   ],
   "source": [
    "props2 = dict(boxes = 'red', whiskers = 'green', medians = 'black', caps = 'red')\n",
    "tf.latitude_of_pickup.plot.box(color=props2, patch_artist = True, vert = False)"
   ]
  },
  {
   "cell_type": "code",
   "execution_count": 62,
   "metadata": {},
   "outputs": [],
   "source": [
    "#Latitude range from -90 to 90 - removing which are not in this range\n",
    "tf = tf[tf.latitude_of_pickup <= 90]"
   ]
  },
  {
   "cell_type": "code",
   "execution_count": 63,
   "metadata": {},
   "outputs": [
    {
     "data": {
      "text/plain": [
       "count    49999.000000\n",
       "mean        39.926536\n",
       "std          6.011729\n",
       "min        -74.006893\n",
       "25%         40.734880\n",
       "50%         40.752677\n",
       "75%         40.767359\n",
       "max         43.098708\n",
       "Name: latitude_of_pickup, dtype: float64"
      ]
     },
     "execution_count": 63,
     "metadata": {},
     "output_type": "execute_result"
    }
   ],
   "source": [
    "tf.latitude_of_pickup.describe()"
   ]
  },
  {
   "cell_type": "code",
   "execution_count": 64,
   "metadata": {},
   "outputs": [
    {
     "data": {
      "text/plain": [
       "<AxesSubplot:>"
      ]
     },
     "execution_count": 64,
     "metadata": {},
     "output_type": "execute_result"
    },
    {
     "data": {
      "image/png": "[encoded data removed]",
      "text/plain": [
       "<Figure size 432x288 with 1 Axes>"
      ]
     },
     "metadata": {
      "needs_background": "light"
     },
     "output_type": "display_data"
    }
   ],
   "source": [
    "props2 = dict(boxes = 'red', whiskers = 'green', medians = 'black', caps = 'red')\n",
    "tf.latitude_of_pickup.plot.box(color=props2, patch_artist = True, vert = False)"
   ]
  },
  {
   "cell_type": "code",
   "execution_count": 65,
   "metadata": {},
   "outputs": [],
   "source": [
    "iqr = tf.latitude_of_pickup.describe()['75%'] - tf.latitude_of_pickup.describe()['25%']"
   ]
  },
  {
   "cell_type": "code",
   "execution_count": 174,
   "metadata": {},
   "outputs": [
    {
     "name": "stdout",
     "output_type": "stream",
     "text": [
      "40.68418749999999\n"
     ]
    },
    {
     "data": {
      "text/plain": [
       "2070"
      ]
     },
     "execution_count": 174,
     "metadata": {},
     "output_type": "execute_result"
    }
   ],
   "source": [
    "low_lim = tf.latitude_of_pickup.describe()['25%']-1.5*iqr \n",
    "print(low_lim)\n",
    "len(tf.latitude_of_pickup[tf.latitude_of_pickup < low_lim])"
   ]
  },
  {
   "cell_type": "code",
   "execution_count": 175,
   "metadata": {},
   "outputs": [
    {
     "name": "stdout",
     "output_type": "stream",
     "text": [
      "40.81805200000001\n"
     ]
    },
    {
     "data": {
      "text/plain": [
       "223"
      ]
     },
     "execution_count": 175,
     "metadata": {},
     "output_type": "execute_result"
    }
   ],
   "source": [
    "up_lim = tf.latitude_of_pickup.describe()['75%']+1.5*iqr\n",
    "print(up_lim)\n",
    "len(tf.latitude_of_pickup[tf.latitude_of_pickup > up_lim])"
   ]
  },
  {
   "cell_type": "code",
   "execution_count": 68,
   "metadata": {},
   "outputs": [
    {
     "name": "stdout",
     "output_type": "stream",
     "text": [
      "40.68 48026\n",
      "40.78 4924\n",
      "40.88 42\n",
      "40.980000000000004 29\n",
      "41.080000000000005 24\n",
      "41.18000000000001 23\n",
      "41.28000000000001 23\n",
      "41.38000000000001 5\n",
      "41.48000000000001 4\n",
      "41.58000000000001 3\n",
      "41.680000000000014 2\n",
      "41.780000000000015 2\n",
      "41.88000000000002 2\n",
      "41.98000000000002 2\n"
     ]
    }
   ],
   "source": [
    "for i in np.arange(40.68,42,.1):\n",
    "    outliers = len(tf.latitude_of_pickup[tf.latitude_of_pickup > i])\n",
    "    print(i, outliers)"
   ]
  },
  {
   "cell_type": "markdown",
   "metadata": {},
   "source": [
    "# longitude_of_dropoff"
   ]
  },
  {
   "cell_type": "code",
   "execution_count": 69,
   "metadata": {},
   "outputs": [
    {
     "data": {
      "text/plain": [
       "count    49999.000000\n",
       "mean       -72.504587\n",
       "std         10.407672\n",
       "min        -84.654241\n",
       "25%        -73.991152\n",
       "50%        -73.980083\n",
       "75%        -73.963584\n",
       "max         40.851027\n",
       "Name: longitude_of_dropoff, dtype: float64"
      ]
     },
     "execution_count": 69,
     "metadata": {},
     "output_type": "execute_result"
    }
   ],
   "source": [
    "tf.longitude_of_dropoff.describe()"
   ]
  },
  {
   "cell_type": "code",
   "execution_count": 70,
   "metadata": {},
   "outputs": [
    {
     "data": {
      "text/plain": [
       "<AxesSubplot:>"
      ]
     },
     "execution_count": 70,
     "metadata": {},
     "output_type": "execute_result"
    },
    {
     "data": {
      "image/png": "[encoded data removed]",
      "text/plain": [
       "<Figure size 432x288 with 1 Axes>"
      ]
     },
     "metadata": {
      "needs_background": "light"
     },
     "output_type": "display_data"
    }
   ],
   "source": [
    "props2 = dict(boxes = 'red', whiskers = 'green', medians = 'black', caps = 'red')\n",
    "tf.longitude_of_dropoff.plot.box(color=props2, patch_artist = True, vert = False)"
   ]
  },
  {
   "cell_type": "code",
   "execution_count": 71,
   "metadata": {},
   "outputs": [],
   "source": [
    "iqr = tf.longitude_of_dropoff.describe()['75%'] - tf.longitude_of_dropoff.describe()['25%']"
   ]
  },
  {
   "cell_type": "code",
   "execution_count": 72,
   "metadata": {},
   "outputs": [
    {
     "data": {
      "text/plain": [
       "150"
      ]
     },
     "execution_count": 72,
     "metadata": {},
     "output_type": "execute_result"
    }
   ],
   "source": [
    "low_lim = tf.longitude_of_dropoff.describe()['25%']-1.5*iqr \n",
    "len(tf.longitude_of_dropoff[tf.longitude_of_dropoff < low_lim])"
   ]
  },
  {
   "cell_type": "code",
   "execution_count": 73,
   "metadata": {},
   "outputs": [
    {
     "data": {
      "text/plain": [
       "3439"
      ]
     },
     "execution_count": 73,
     "metadata": {},
     "output_type": "execute_result"
    }
   ],
   "source": [
    "up_lim = tf.longitude_of_dropoff.describe()['75%']+1.5*iqr \n",
    "len(tf.longitude_of_dropoff[tf.longitude_of_dropoff > up_lim])"
   ]
  },
  {
   "cell_type": "code",
   "execution_count": 74,
   "metadata": {},
   "outputs": [
    {
     "name": "stdout",
     "output_type": "stream",
     "text": [
      "-76.0 1\n",
      "-75.9 1\n",
      "-75.80000000000001 1\n",
      "-75.70000000000002 1\n",
      "-75.60000000000002 1\n",
      "-75.50000000000003 1\n",
      "-75.40000000000003 1\n",
      "-75.30000000000004 2\n",
      "-75.20000000000005 2\n",
      "-75.10000000000005 2\n",
      "-75.00000000000006 2\n",
      "-74.90000000000006 2\n",
      "-74.80000000000007 2\n",
      "-74.70000000000007 3\n",
      "-74.60000000000008 5\n",
      "-74.50000000000009 5\n",
      "-74.40000000000009 6\n",
      "-74.3000000000001 8\n",
      "-74.2000000000001 15\n",
      "-74.10000000000011 100\n"
     ]
    }
   ],
   "source": [
    "for i in np.arange(-76,-74,.1):\n",
    "    outliers = len(tf.longitude_of_dropoff[tf.longitude_of_dropoff < i])\n",
    "    print(i, outliers)"
   ]
  },
  {
   "cell_type": "markdown",
   "metadata": {},
   "source": [
    "# latitude_of_dropoff"
   ]
  },
  {
   "cell_type": "code",
   "execution_count": 75,
   "metadata": {},
   "outputs": [
    {
     "data": {
      "text/plain": [
       "count    49999.000000\n",
       "mean        39.926234\n",
       "std          6.014796\n",
       "min        -74.006377\n",
       "25%         40.734371\n",
       "50%         40.753371\n",
       "75%         40.768166\n",
       "max         43.415190\n",
       "Name: latitude_of_dropoff, dtype: float64"
      ]
     },
     "execution_count": 75,
     "metadata": {},
     "output_type": "execute_result"
    }
   ],
   "source": [
    "tf.latitude_of_dropoff.describe()"
   ]
  },
  {
   "cell_type": "code",
   "execution_count": 76,
   "metadata": {},
   "outputs": [
    {
     "data": {
      "text/plain": [
       "<AxesSubplot:>"
      ]
     },
     "execution_count": 76,
     "metadata": {},
     "output_type": "execute_result"
    },
    {
     "data": {
      "image/png": "[encoded data removed]",
      "text/plain": [
       "<Figure size 432x288 with 1 Axes>"
      ]
     },
     "metadata": {
      "needs_background": "light"
     },
     "output_type": "display_data"
    }
   ],
   "source": [
    "props2 = dict(boxes = 'red', whiskers = 'green', medians = 'black', caps = 'red')\n",
    "tf.latitude_of_dropoff.plot.box(color=props2, patch_artist = True, vert = False)"
   ]
  },
  {
   "cell_type": "code",
   "execution_count": 77,
   "metadata": {},
   "outputs": [],
   "source": [
    "iqr = tf.latitude_of_dropoff.describe()['75%'] - tf.latitude_of_dropoff.describe()['25%'] "
   ]
  },
  {
   "cell_type": "code",
   "execution_count": 78,
   "metadata": {},
   "outputs": [
    {
     "data": {
      "text/plain": [
       "2396"
      ]
     },
     "execution_count": 78,
     "metadata": {},
     "output_type": "execute_result"
    }
   ],
   "source": [
    "low_lim = tf.latitude_of_dropoff.describe()['25%']-1.5*iqr \n",
    "len(tf.latitude_of_dropoff[tf.latitude_of_dropoff < low_lim]) "
   ]
  },
  {
   "cell_type": "code",
   "execution_count": 79,
   "metadata": {},
   "outputs": [
    {
     "data": {
      "text/plain": [
       "743"
      ]
     },
     "execution_count": 79,
     "metadata": {},
     "output_type": "execute_result"
    }
   ],
   "source": [
    "up_lim = tf.latitude_of_dropoff.describe()['75%']+1.5*iqr \n",
    "len(tf.latitude_of_dropoff[tf.latitude_of_dropoff > up_lim])"
   ]
  },
  {
   "cell_type": "code",
   "execution_count": 80,
   "metadata": {},
   "outputs": [
    {
     "name": "stdout",
     "output_type": "stream",
     "text": [
      "38.0 978\n",
      "38.05 978\n",
      "38.099999999999994 978\n",
      "38.14999999999999 978\n",
      "38.19999999999999 978\n",
      "38.249999999999986 978\n",
      "38.29999999999998 978\n",
      "38.34999999999998 978\n",
      "38.39999999999998 978\n",
      "38.449999999999974 978\n",
      "38.49999999999997 978\n",
      "38.54999999999997 978\n",
      "38.599999999999966 978\n",
      "38.64999999999996 978\n",
      "38.69999999999996 978\n",
      "38.74999999999996 978\n",
      "38.799999999999955 978\n",
      "38.84999999999995 978\n",
      "38.89999999999995 978\n",
      "38.949999999999946 978\n",
      "38.99999999999994 978\n",
      "39.04999999999994 978\n",
      "39.09999999999994 978\n",
      "39.149999999999935 978\n",
      "39.19999999999993 978\n",
      "39.24999999999993 978\n",
      "39.299999999999926 978\n",
      "39.34999999999992 978\n",
      "39.39999999999992 978\n",
      "39.44999999999992 978\n",
      "39.499999999999915 978\n",
      "39.54999999999991 978\n",
      "39.59999999999991 978\n",
      "39.649999999999906 984\n",
      "39.6999999999999 985\n",
      "39.7499999999999 985\n",
      "39.7999999999999 985\n",
      "39.849999999999895 985\n",
      "39.89999999999989 985\n",
      "39.94999999999989 985\n",
      "39.999999999999886 985\n",
      "40.04999999999988 985\n",
      "40.09999999999988 985\n",
      "40.14999999999988 985\n",
      "40.199999999999875 988\n",
      "40.24999999999987 988\n",
      "40.29999999999987 988\n",
      "40.349999999999866 990\n",
      "40.399999999999864 991\n",
      "40.44999999999986 991\n",
      "40.49999999999986 993\n",
      "40.549999999999855 997\n",
      "40.59999999999985 1031\n",
      "40.64999999999985 1606\n",
      "40.69999999999985 3213\n"
     ]
    }
   ],
   "source": [
    "for i in np.arange(38,40.7,.05):\n",
    "    outliers = len(tf.latitude_of_dropoff[tf.latitude_of_dropoff < i])\n",
    "    print(i, outliers)"
   ]
  },
  {
   "cell_type": "code",
   "execution_count": 81,
   "metadata": {},
   "outputs": [
    {
     "name": "stderr",
     "output_type": "stream",
     "text": [
      "C:\\Users\\chira\\anaconda3\\lib\\site-packages\\seaborn\\_decorators.py:36: FutureWarning: Pass the following variables as keyword args: x, y. From version 0.12, the only valid positional argument will be `data`, and passing other arguments without an explicit keyword will result in an error or misinterpretation.\n",
      "  warnings.warn(\n"
     ]
    },
    {
     "data": {
      "text/plain": [
       "<AxesSubplot:xlabel='longitude_of_pickup', ylabel='latitude_of_pickup'>"
      ]
     },
     "execution_count": 81,
     "metadata": {},
     "output_type": "execute_result"
    },
    {
     "data": {
      "image/png": "[encoded data removed]",
      "text/plain": [
       "<Figure size 432x288 with 1 Axes>"
      ]
     },
     "metadata": {
      "needs_background": "light"
     },
     "output_type": "display_data"
    }
   ],
   "source": [
    "sns.scatterplot(tf.longitude_of_pickup,tf.latitude_of_pickup, color='green')"
   ]
  },
  {
   "cell_type": "code",
   "execution_count": 82,
   "metadata": {},
   "outputs": [
    {
     "name": "stderr",
     "output_type": "stream",
     "text": [
      "C:\\Users\\chira\\anaconda3\\lib\\site-packages\\seaborn\\_decorators.py:36: FutureWarning: Pass the following variables as keyword args: x, y. From version 0.12, the only valid positional argument will be `data`, and passing other arguments without an explicit keyword will result in an error or misinterpretation.\n",
      "  warnings.warn(\n"
     ]
    },
    {
     "data": {
      "text/plain": [
       "<AxesSubplot:xlabel='longitude_of_dropoff', ylabel='latitude_of_dropoff'>"
      ]
     },
     "execution_count": 82,
     "metadata": {},
     "output_type": "execute_result"
    },
    {
     "data": {
      "image/png": "[encoded data removed]",
      "text/plain": [
       "<Figure size 432x288 with 1 Axes>"
      ]
     },
     "metadata": {
      "needs_background": "light"
     },
     "output_type": "display_data"
    }
   ],
   "source": [
    "sns.scatterplot(tf.longitude_of_dropoff,tf.latitude_of_dropoff, marker = 'x', color='red')"
   ]
  },
  {
   "cell_type": "code",
   "execution_count": 83,
   "metadata": {},
   "outputs": [],
   "source": [
    "#Due to outliers the plot is overlapped"
   ]
  },
  {
   "cell_type": "code",
   "execution_count": 84,
   "metadata": {},
   "outputs": [],
   "source": [
    "def distance(lat1, lon1, lat2, lon2):\n",
    "  p = 0.017453292519943295 # Pi/180\n",
    "  a = 0.5 - np.cos((lat2 - lat1) * p)/2 + np.cos(lat1 * p) * np.cos(lat2 * p) * (1 - np.cos((lon2 - lon1) * p))/2\n",
    "  return 0.6213712 * 12742 * np.arcsin(np.sqrt(a))"
   ]
  },
  {
   "cell_type": "code",
   "execution_count": 85,
   "metadata": {},
   "outputs": [],
   "source": [
    "tf['distance_travelled'] = distance(tf.latitude_of_pickup, tf.longitude_of_pickup,\n",
    "                                    tf.latitude_of_dropoff, tf.longitude_of_dropoff)"
   ]
  },
  {
   "cell_type": "code",
   "execution_count": 176,
   "metadata": {},
   "outputs": [
    {
     "data": {
      "text/plain": [
       "0    0.640487\n",
       "1    5.250670\n",
       "2    0.863411\n",
       "3    1.739386\n",
       "4    1.242218\n",
       "Name: distance_travelled, dtype: float64"
      ]
     },
     "execution_count": 176,
     "metadata": {},
     "output_type": "execute_result"
    }
   ],
   "source": [
    "tf.distance_travelled.head()"
   ]
  },
  {
   "cell_type": "code",
   "execution_count": 177,
   "metadata": {},
   "outputs": [
    {
     "name": "stdout",
     "output_type": "stream",
     "text": [
      "<class 'pandas.core.frame.DataFrame'>\n",
      "Int64Index: 49999 entries, 0 to 49999\n",
      "Data columns (total 13 columns):\n",
      " #   Column                Non-Null Count  Dtype              \n",
      "---  ------                --------------  -----              \n",
      " 0   unique_id             49999 non-null  object             \n",
      " 1   amount                49999 non-null  float64            \n",
      " 2   date_time_of_pickup   49999 non-null  datetime64[ns, UTC]\n",
      " 3   longitude_of_pickup   49999 non-null  float64            \n",
      " 4   latitude_of_pickup    49999 non-null  float64            \n",
      " 5   longitude_of_dropoff  49999 non-null  float64            \n",
      " 6   latitude_of_dropoff   49999 non-null  float64            \n",
      " 7   no_of_passenger       49999 non-null  int64              \n",
      " 8   year                  49999 non-null  int64              \n",
      " 9   month                 49999 non-null  int64              \n",
      " 10  day                   49999 non-null  int64              \n",
      " 11  hour                  49999 non-null  int64              \n",
      " 12  distance_travelled    49999 non-null  float64            \n",
      "dtypes: datetime64[ns, UTC](1), float64(6), int64(5), object(1)\n",
      "memory usage: 6.3+ MB\n"
     ]
    }
   ],
   "source": [
    "tf.info()"
   ]
  },
  {
   "cell_type": "code",
   "execution_count": 160,
   "metadata": {},
   "outputs": [
    {
     "data": {
      "text/plain": [
       "5385.932976730134"
      ]
     },
     "execution_count": 160,
     "metadata": {},
     "output_type": "execute_result"
    }
   ],
   "source": [
    "tf.distance_travelled.max()"
   ]
  },
  {
   "cell_type": "code",
   "execution_count": 145,
   "metadata": {},
   "outputs": [
    {
     "data": {
      "text/plain": [
       "0.0"
      ]
     },
     "execution_count": 145,
     "metadata": {},
     "output_type": "execute_result"
    }
   ],
   "source": [
    "tf.distance_travelled.min()"
   ]
  },
  {
   "cell_type": "code",
   "execution_count": 167,
   "metadata": {},
   "outputs": [
    {
     "data": {
      "text/plain": [
       "Text(0.5, 1.0, 'Histogram of Distance Travelled')"
      ]
     },
     "execution_count": 167,
     "metadata": {},
     "output_type": "execute_result"
    },
    {
     "data": {
      "image/png": "[encoded data removed]",
      "text/plain": [
       "<Figure size 432x288 with 1 Axes>"
      ]
     },
     "metadata": {
      "needs_background": "light"
     },
     "output_type": "display_data"
    }
   ],
   "source": [
    "plt.hist(tf.distance_travelled, bins=[0,2,4,6,8,10,12,14,16])\n",
    "plt.xlabel(\"Distance Travelled\")\n",
    "plt.ylabel('counts')\n",
    "plt.title(\"Histogram of Distance Travelled\")"
   ]
  },
  {
   "cell_type": "code",
   "execution_count": 88,
   "metadata": {},
   "outputs": [
    {
     "data": {
      "text/plain": [
       "count    49999.000000\n",
       "mean        11.500736\n",
       "std        220.939627\n",
       "min          0.000000\n",
       "25%          0.760013\n",
       "50%          1.317338\n",
       "75%          2.420516\n",
       "max       5385.932977\n",
       "Name: distance_travelled, dtype: float64"
      ]
     },
     "execution_count": 88,
     "metadata": {},
     "output_type": "execute_result"
    }
   ],
   "source": [
    "tf.distance_travelled.describe()"
   ]
  },
  {
   "cell_type": "code",
   "execution_count": 89,
   "metadata": {},
   "outputs": [
    {
     "name": "stderr",
     "output_type": "stream",
     "text": [
      "C:\\Users\\chira\\anaconda3\\lib\\site-packages\\seaborn\\_decorators.py:36: FutureWarning: Pass the following variables as keyword args: x, y. From version 0.12, the only valid positional argument will be `data`, and passing other arguments without an explicit keyword will result in an error or misinterpretation.\n",
      "  warnings.warn(\n"
     ]
    },
    {
     "data": {
      "text/plain": [
       "<AxesSubplot:xlabel='distance_travelled', ylabel='amount'>"
      ]
     },
     "execution_count": 89,
     "metadata": {},
     "output_type": "execute_result"
    },
    {
     "data": {
      "image/png": "[encoded data removed]",
      "text/plain": [
       "<Figure size 432x288 with 1 Axes>"
      ]
     },
     "metadata": {
      "needs_background": "light"
     },
     "output_type": "display_data"
    }
   ],
   "source": [
    "sns.scatterplot(tf.distance_travelled, tf.amount)"
   ]
  },
  {
   "cell_type": "code",
   "execution_count": 90,
   "metadata": {},
   "outputs": [
    {
     "data": {
      "text/plain": [
       "<AxesSubplot:>"
      ]
     },
     "execution_count": 90,
     "metadata": {},
     "output_type": "execute_result"
    },
    {
     "data": {
      "image/png": "[encoded data removed]",
      "text/plain": [
       "<Figure size 432x288 with 1 Axes>"
      ]
     },
     "metadata": {
      "needs_background": "light"
     },
     "output_type": "display_data"
    }
   ],
   "source": [
    "props2 = dict(boxes = 'red', whiskers = 'green', medians = 'black', caps = 'red')\n",
    "tf.distance_travelled.plot.box(color=props2, patch_artist = True, vert = False)"
   ]
  },
  {
   "cell_type": "code",
   "execution_count": 91,
   "metadata": {},
   "outputs": [
    {
     "data": {
      "text/plain": [
       "count    49999.000000\n",
       "mean         1.667853\n",
       "std          1.289204\n",
       "min          0.000000\n",
       "25%          1.000000\n",
       "50%          1.000000\n",
       "75%          2.000000\n",
       "max          6.000000\n",
       "Name: no_of_passenger, dtype: float64"
      ]
     },
     "execution_count": 91,
     "metadata": {},
     "output_type": "execute_result"
    }
   ],
   "source": [
    "tf.no_of_passenger.describe()"
   ]
  },
  {
   "cell_type": "code",
   "execution_count": 92,
   "metadata": {},
   "outputs": [
    {
     "data": {
      "text/plain": [
       "1    34807\n",
       "2     7386\n",
       "5     3453\n",
       "3     2183\n",
       "4     1016\n",
       "6      989\n",
       "0      165\n",
       "Name: no_of_passenger, dtype: int64"
      ]
     },
     "execution_count": 92,
     "metadata": {},
     "output_type": "execute_result"
    }
   ],
   "source": [
    "tf.no_of_passenger.value_counts()"
   ]
  },
  {
   "cell_type": "code",
   "execution_count": 93,
   "metadata": {},
   "outputs": [
    {
     "data": {
      "text/plain": [
       "Text(0.5, 1.0, \"No of Passenger's\")"
      ]
     },
     "execution_count": 93,
     "metadata": {},
     "output_type": "execute_result"
    },
    {
     "data": {
      "image/png": "[encoded data removed]",
      "text/plain": [
       "<Figure size 432x288 with 1 Axes>"
      ]
     },
     "metadata": {
      "needs_background": "light"
     },
     "output_type": "display_data"
    }
   ],
   "source": [
    "sns.countplot(x='no_of_passenger', data=tf)\n",
    "plt.xlabel(\"No of Passenger's\")\n",
    "plt.ylabel('counts')\n",
    "plt.title(\"No of Passenger's\")"
   ]
  },
  {
   "cell_type": "code",
   "execution_count": 94,
   "metadata": {},
   "outputs": [
    {
     "data": {
      "text/plain": [
       "<AxesSubplot:>"
      ]
     },
     "execution_count": 94,
     "metadata": {},
     "output_type": "execute_result"
    },
    {
     "data": {
      "image/png": "[encoded data removed]",
      "text/plain": [
       "<Figure size 432x288 with 1 Axes>"
      ]
     },
     "metadata": {
      "needs_background": "light"
     },
     "output_type": "display_data"
    }
   ],
   "source": [
    "props2 = dict(boxes = 'red', whiskers = 'green', medians = 'black', caps = 'red')\n",
    "tf.no_of_passenger.plot.box(color=props2, patch_artist = True, vert = False)"
   ]
  },
  {
   "cell_type": "code",
   "execution_count": 95,
   "metadata": {},
   "outputs": [],
   "source": [
    "tf.to_csv('taxifare_N.csv', index=False)"
   ]
  },
  {
   "cell_type": "code",
   "execution_count": 96,
   "metadata": {},
   "outputs": [],
   "source": [
    "import sklearn\n",
    "from sklearn import tree\n",
    "from sklearn import metrics\n",
    "from sklearn.tree import DecisionTreeRegressor\n",
    "from sklearn.model_selection import train_test_split"
   ]
  },
  {
   "cell_type": "code",
   "execution_count": 97,
   "metadata": {},
   "outputs": [],
   "source": [
    "from sklearn.ensemble import RandomForestRegressor"
   ]
  },
  {
   "cell_type": "code",
   "execution_count": 98,
   "metadata": {},
   "outputs": [
    {
     "name": "stdout",
     "output_type": "stream",
     "text": [
      "<class 'pandas.core.frame.DataFrame'>\n",
      "Int64Index: 49999 entries, 0 to 49999\n",
      "Data columns (total 13 columns):\n",
      " #   Column                Non-Null Count  Dtype              \n",
      "---  ------                --------------  -----              \n",
      " 0   unique_id             49999 non-null  object             \n",
      " 1   amount                49999 non-null  float64            \n",
      " 2   date_time_of_pickup   49999 non-null  datetime64[ns, UTC]\n",
      " 3   longitude_of_pickup   49999 non-null  float64            \n",
      " 4   latitude_of_pickup    49999 non-null  float64            \n",
      " 5   longitude_of_dropoff  49999 non-null  float64            \n",
      " 6   latitude_of_dropoff   49999 non-null  float64            \n",
      " 7   no_of_passenger       49999 non-null  int64              \n",
      " 8   year                  49999 non-null  int64              \n",
      " 9   month                 49999 non-null  int64              \n",
      " 10  day                   49999 non-null  int64              \n",
      " 11  hour                  49999 non-null  int64              \n",
      " 12  distance_travelled    49999 non-null  float64            \n",
      "dtypes: datetime64[ns, UTC](1), float64(6), int64(5), object(1)\n",
      "memory usage: 6.3+ MB\n",
      "<class 'pandas.core.frame.DataFrame'>\n",
      "Int64Index: 49999 entries, 0 to 49999\n",
      "Data columns (total 10 columns):\n",
      " #   Column                Non-Null Count  Dtype  \n",
      "---  ------                --------------  -----  \n",
      " 0   longitude_of_pickup   49999 non-null  float64\n",
      " 1   latitude_of_pickup    49999 non-null  float64\n",
      " 2   longitude_of_dropoff  49999 non-null  float64\n",
      " 3   latitude_of_dropoff   49999 non-null  float64\n",
      " 4   no_of_passenger       49999 non-null  int64  \n",
      " 5   year                  49999 non-null  int64  \n",
      " 6   month                 49999 non-null  int64  \n",
      " 7   day                   49999 non-null  int64  \n",
      " 8   hour                  49999 non-null  int64  \n",
      " 9   distance_travelled    49999 non-null  float64\n",
      "dtypes: float64(5), int64(5)\n",
      "memory usage: 5.2 MB\n"
     ]
    }
   ],
   "source": [
    "tf.info()\n",
    "x = tf.iloc[:,3:13] \n",
    "x.info()\n",
    "y = tf.iloc[:,1]"
   ]
  },
  {
   "cell_type": "code",
   "execution_count": 99,
   "metadata": {},
   "outputs": [],
   "source": [
    "x_train, x_test, y_train, y_test = train_test_split(x,y, test_size=0.3, random_state=123)"
   ]
  },
  {
   "cell_type": "code",
   "execution_count": 100,
   "metadata": {},
   "outputs": [
    {
     "data": {
      "text/plain": [
       "34999"
      ]
     },
     "execution_count": 100,
     "metadata": {},
     "output_type": "execute_result"
    }
   ],
   "source": [
    "len(x_train) "
   ]
  },
  {
   "cell_type": "code",
   "execution_count": 101,
   "metadata": {},
   "outputs": [
    {
     "data": {
      "text/plain": [
       "15000"
      ]
     },
     "execution_count": 101,
     "metadata": {},
     "output_type": "execute_result"
    }
   ],
   "source": [
    "len(x_test) "
   ]
  },
  {
   "cell_type": "code",
   "execution_count": 102,
   "metadata": {},
   "outputs": [
    {
     "data": {
      "text/plain": [
       "34999"
      ]
     },
     "execution_count": 102,
     "metadata": {},
     "output_type": "execute_result"
    }
   ],
   "source": [
    "len(y_train) "
   ]
  },
  {
   "cell_type": "code",
   "execution_count": 103,
   "metadata": {},
   "outputs": [
    {
     "data": {
      "text/plain": [
       "15000"
      ]
     },
     "execution_count": 103,
     "metadata": {},
     "output_type": "execute_result"
    }
   ],
   "source": [
    "len(y_test)"
   ]
  },
  {
   "cell_type": "markdown",
   "metadata": {},
   "source": [
    "# Decision Tree"
   ]
  },
  {
   "cell_type": "code",
   "execution_count": 104,
   "metadata": {},
   "outputs": [],
   "source": [
    "clf = tree.DecisionTreeRegressor()\n",
    "tf_clf = clf.fit(x_train, y_train)"
   ]
  },
  {
   "cell_type": "code",
   "execution_count": 105,
   "metadata": {},
   "outputs": [],
   "source": [
    "#Prediction\n",
    "y_pred = tf_clf.predict(x_test)"
   ]
  },
  {
   "cell_type": "code",
   "execution_count": 106,
   "metadata": {},
   "outputs": [
    {
     "name": "stdout",
     "output_type": "stream",
     "text": [
      "6.512033503189819\n"
     ]
    }
   ],
   "source": [
    "#RMSE\n",
    "from sklearn.metrics import mean_squared_error\n",
    "mse = mean_squared_error(y_test, y_pred)\n",
    "RMSE = np.sqrt(mse)\n",
    "print(RMSE)"
   ]
  },
  {
   "cell_type": "code",
   "execution_count": 107,
   "metadata": {},
   "outputs": [],
   "source": [
    "#plot\n",
    "len(y_test)\n",
    "obs_No = list(range(1, 15001))\n",
    "x = obs_No"
   ]
  },
  {
   "cell_type": "code",
   "execution_count": 108,
   "metadata": {},
   "outputs": [
    {
     "data": {
      "image/png": "[encoded data removed]",
      "text/plain": [
       "<Figure size 432x288 with 1 Axes>"
      ]
     },
     "metadata": {
      "needs_background": "light"
     },
     "output_type": "display_data"
    }
   ],
   "source": [
    "plt.plot(x, y_pred, 'r')\n",
    "plt.plot(x, y_test, 'b')\n",
    "plt.xlabel('No of Observations')\n",
    "plt.ylabel('Test & Predict')\n",
    "plt.title('Decision Tree')\n",
    "plt.legend(labels= ('Test', 'Predict'), loc= 'upper left')\n",
    "plt.show()"
   ]
  },
  {
   "cell_type": "markdown",
   "metadata": {},
   "source": [
    "# Random Forest"
   ]
  },
  {
   "cell_type": "code",
   "execution_count": 109,
   "metadata": {},
   "outputs": [],
   "source": [
    "rfr = RandomForestRegressor(n_estimators = 300) \n",
    "tf_rfr = rfr.fit(x_train, y_train)"
   ]
  },
  {
   "cell_type": "code",
   "execution_count": 110,
   "metadata": {},
   "outputs": [],
   "source": [
    "#Prediction\n",
    "y_pred = tf_rfr.predict(x_test)"
   ]
  },
  {
   "cell_type": "code",
   "execution_count": 111,
   "metadata": {},
   "outputs": [
    {
     "name": "stdout",
     "output_type": "stream",
     "text": [
      "4.387681028861002\n"
     ]
    }
   ],
   "source": [
    "#RMSE\n",
    "from sklearn.metrics import mean_squared_error\n",
    "mse = mean_squared_error(y_test, y_pred)\n",
    "RMSE = np.sqrt(mse)\n",
    "print(RMSE)"
   ]
  },
  {
   "cell_type": "code",
   "execution_count": 112,
   "metadata": {},
   "outputs": [
    {
     "data": {
      "image/png": "[encoded data removed]",
      "text/plain": [
       "<Figure size 432x288 with 1 Axes>"
      ]
     },
     "metadata": {
      "needs_background": "light"
     },
     "output_type": "display_data"
    }
   ],
   "source": [
    "#Plot DONT DO!\n",
    "plt.plot(x, y_pred, 'r')\n",
    "plt.plot(x, y_test, 'purple')\n",
    "plt.xlabel('No of Observations')\n",
    "plt.ylabel('Test & Predict')\n",
    "plt.title('Random Forest')\n",
    "plt.legend(labels= ('Test', 'Predict'), loc= 'upper left')\n",
    "plt.show()"
   ]
  },
  {
   "cell_type": "code",
   "execution_count": 113,
   "metadata": {},
   "outputs": [],
   "source": [
    "#Importance of variables\n",
    "#Extract Feature importance\n",
    "fi = pd.DataFrame({'feature': list(x_train.columns),\n",
    "                   'importance': tf_rfr.feature_importances_}).\\\n",
    "                    sort_values('importance', ascending=False)"
   ]
  },
  {
   "cell_type": "code",
   "execution_count": 114,
   "metadata": {},
   "outputs": [
    {
     "data": {
      "text/html": [
       "<div>\n",
       "<style scoped>\n",
       "    .dataframe tbody tr th:only-of-type {\n",
       "        vertical-align: middle;\n",
       "    }\n",
       "\n",
       "    .dataframe tbody tr th {\n",
       "        vertical-align: top;\n",
       "    }\n",
       "\n",
       "    .dataframe thead th {\n",
       "        text-align: right;\n",
       "    }\n",
       "</style>\n",
       "<table border=\"1\" class=\"dataframe\">\n",
       "  <thead>\n",
       "    <tr style=\"text-align: right;\">\n",
       "      <th></th>\n",
       "      <th>feature</th>\n",
       "      <th>importance</th>\n",
       "    </tr>\n",
       "  </thead>\n",
       "  <tbody>\n",
       "    <tr>\n",
       "      <th>9</th>\n",
       "      <td>distance_travelled</td>\n",
       "      <td>0.743142</td>\n",
       "    </tr>\n",
       "    <tr>\n",
       "      <th>2</th>\n",
       "      <td>longitude_of_dropoff</td>\n",
       "      <td>0.055563</td>\n",
       "    </tr>\n",
       "    <tr>\n",
       "      <th>0</th>\n",
       "      <td>longitude_of_pickup</td>\n",
       "      <td>0.042139</td>\n",
       "    </tr>\n",
       "    <tr>\n",
       "      <th>3</th>\n",
       "      <td>latitude_of_dropoff</td>\n",
       "      <td>0.037591</td>\n",
       "    </tr>\n",
       "    <tr>\n",
       "      <th>1</th>\n",
       "      <td>latitude_of_pickup</td>\n",
       "      <td>0.033493</td>\n",
       "    </tr>\n",
       "  </tbody>\n",
       "</table>\n",
       "</div>"
      ],
      "text/plain": [
       "                feature  importance\n",
       "9    distance_travelled    0.743142\n",
       "2  longitude_of_dropoff    0.055563\n",
       "0   longitude_of_pickup    0.042139\n",
       "3   latitude_of_dropoff    0.037591\n",
       "1    latitude_of_pickup    0.033493"
      ]
     },
     "execution_count": 114,
     "metadata": {},
     "output_type": "execute_result"
    }
   ],
   "source": [
    "fi.head()"
   ]
  },
  {
   "cell_type": "code",
   "execution_count": 115,
   "metadata": {},
   "outputs": [
    {
     "name": "stdout",
     "output_type": "stream",
     "text": [
      "<class 'pandas.core.frame.DataFrame'>\n",
      "Int64Index: 100 entries, 26732 to 34539\n",
      "Data columns (total 13 columns):\n",
      " #   Column                Non-Null Count  Dtype  \n",
      "---  ------                --------------  -----  \n",
      " 0   unique_id             100 non-null    object \n",
      " 1   amount                100 non-null    float64\n",
      " 2   date_time_of_pickup   100 non-null    object \n",
      " 3   longitude_of_pickup   100 non-null    float64\n",
      " 4   latitude_of_pickup    100 non-null    float64\n",
      " 5   longitude_of_dropoff  100 non-null    float64\n",
      " 6   latitude_of_dropoff   100 non-null    float64\n",
      " 7   no_of_passenger       100 non-null    int64  \n",
      " 8   year                  100 non-null    int64  \n",
      " 9   month                 100 non-null    int64  \n",
      " 10  day                   100 non-null    int64  \n",
      " 11  hour                  100 non-null    int64  \n",
      " 12  distance_travelled    100 non-null    float64\n",
      "dtypes: float64(6), int64(5), object(2)\n",
      "memory usage: 10.9+ KB\n"
     ]
    }
   ],
   "source": [
    "tf1 = pd.read_csv('taxifare_N.csv')\n",
    "tf1 = tf1.sample(100, random_state=21)\n",
    "tf1.info()"
   ]
  },
  {
   "cell_type": "code",
   "execution_count": 116,
   "metadata": {},
   "outputs": [],
   "source": [
    "x1 = tf1.iloc[:,3:13]\n",
    "y1 = tf1.iloc[:,1]"
   ]
  },
  {
   "cell_type": "markdown",
   "metadata": {},
   "source": [
    "# Decision Tree"
   ]
  },
  {
   "cell_type": "code",
   "execution_count": 117,
   "metadata": {},
   "outputs": [],
   "source": [
    "clf = tree.DecisionTreeRegressor()\n",
    "tf_clf = clf.fit(x1, y1)"
   ]
  },
  {
   "cell_type": "code",
   "execution_count": 118,
   "metadata": {},
   "outputs": [],
   "source": [
    "#Prediction\n",
    "y_pred = tf_clf.predict(x1)"
   ]
  },
  {
   "cell_type": "code",
   "execution_count": 119,
   "metadata": {},
   "outputs": [
    {
     "name": "stdout",
     "output_type": "stream",
     "text": [
      "0.0\n"
     ]
    }
   ],
   "source": [
    "#RMSE\n",
    "from sklearn.metrics import mean_squared_error\n",
    "mse = mean_squared_error(y1, y_pred)\n",
    "RMSE = np.sqrt(mse)\n",
    "print(RMSE)"
   ]
  },
  {
   "cell_type": "code",
   "execution_count": 120,
   "metadata": {},
   "outputs": [],
   "source": [
    "#plot\n",
    "len(y_test)\n",
    "obs_No = list(range(1, 101))\n",
    "x = obs_No"
   ]
  },
  {
   "cell_type": "code",
   "execution_count": 121,
   "metadata": {},
   "outputs": [
    {
     "data": {
      "image/png": "[encoded data removed]",
      "text/plain": [
       "<Figure size 432x288 with 1 Axes>"
      ]
     },
     "metadata": {
      "needs_background": "light"
     },
     "output_type": "display_data"
    }
   ],
   "source": [
    "plt.plot(x, y_pred, 'r', linewidth=4)\n",
    "plt.plot(x, y1, 'b')\n",
    "plt.xlabel('No of Observations')\n",
    "plt.ylabel('Test & Predict')\n",
    "plt.title('Decision Tree')\n",
    "plt.legend(labels= ('Test', 'Predict'), loc= 'upper left')\n",
    "plt.show()"
   ]
  },
  {
   "cell_type": "code",
   "execution_count": 122,
   "metadata": {},
   "outputs": [],
   "source": [
    "#Random Forest\n",
    "rfr = RandomForestRegressor()\n",
    "tf_rfr = rfr.fit(x1, y1)"
   ]
  },
  {
   "cell_type": "code",
   "execution_count": 123,
   "metadata": {},
   "outputs": [],
   "source": [
    "#Prediction\n",
    "y_pred = tf_rfr.predict(x1)"
   ]
  },
  {
   "cell_type": "code",
   "execution_count": 124,
   "metadata": {},
   "outputs": [
    {
     "name": "stdout",
     "output_type": "stream",
     "text": [
      "1.859689029730511\n"
     ]
    }
   ],
   "source": [
    "#RMSE\n",
    "from sklearn.metrics import mean_squared_error\n",
    "mse = mean_squared_error(y1, y_pred)\n",
    "RMSE = np.sqrt(mse)\n",
    "print(RMSE)"
   ]
  },
  {
   "cell_type": "code",
   "execution_count": 125,
   "metadata": {},
   "outputs": [
    {
     "data": {
      "image/png": "[encoded data removed]",
      "text/plain": [
       "<Figure size 432x288 with 1 Axes>"
      ]
     },
     "metadata": {
      "needs_background": "light"
     },
     "output_type": "display_data"
    }
   ],
   "source": [
    "plt.plot(x, y_pred, 'r')\n",
    "plt.plot(x, y1, 'black')\n",
    "plt.xlabel('No of Observations')\n",
    "plt.ylabel('Test & Predict')\n",
    "plt.title('Random Forest')\n",
    "plt.legend(labels= ('Test', 'Predict'), loc= 'upper left')\n",
    "plt.show()"
   ]
  },
  {
   "cell_type": "code",
   "execution_count": 126,
   "metadata": {},
   "outputs": [],
   "source": [
    "#Build Random Forest Model with hyperparameters\n",
    "# Number of trees in random forest\n",
    "#linspace to get a sequence of number with evenly space\n",
    "n_estimators = [int(x) for x in np.linspace(start = 100, stop = 300, num=3)] "
   ]
  },
  {
   "cell_type": "code",
   "execution_count": 127,
   "metadata": {},
   "outputs": [],
   "source": [
    "# Number of features to consider at every split\n",
    "max_features = ['auto', 'sqrt']"
   ]
  },
  {
   "cell_type": "code",
   "execution_count": 128,
   "metadata": {},
   "outputs": [],
   "source": [
    "# Maximum number of levels in tree\n",
    "max_depth = [2,5]"
   ]
  },
  {
   "cell_type": "code",
   "execution_count": 129,
   "metadata": {},
   "outputs": [],
   "source": [
    "# Minimum number of samples required to split a node\n",
    "min_samples_split = [10,20]"
   ]
  },
  {
   "cell_type": "code",
   "execution_count": 130,
   "metadata": {},
   "outputs": [],
   "source": [
    "# Minimum number of samples required at each leaf node\n",
    "min_samples_leaf = [5,10]"
   ]
  },
  {
   "cell_type": "code",
   "execution_count": 131,
   "metadata": {},
   "outputs": [],
   "source": [
    "# Method of selecting samples for training each tree\n",
    "bootstrap = [True, False]"
   ]
  },
  {
   "cell_type": "code",
   "execution_count": 132,
   "metadata": {},
   "outputs": [],
   "source": [
    "#CV - Cross Validation\n",
    "#n_jobs = no of jobs to run in parallel - it helps to reduce the load on processor "
   ]
  },
  {
   "cell_type": "code",
   "execution_count": 133,
   "metadata": {
    "scrolled": true
   },
   "outputs": [
    {
     "name": "stdout",
     "output_type": "stream",
     "text": [
      "{'n_estimators': [100, 200, 300], 'max_features': ['auto', 'sqrt'], 'max_depth': [2, 5], 'min_samples_split': [10, 20], 'min_samples_leaf': [5, 10], 'bootstrap': [True, False]}\n"
     ]
    }
   ],
   "source": [
    "# Create the parameter grid as dictionary\n",
    "param_grid = {'n_estimators': n_estimators,\n",
    "               'max_features': max_features,\n",
    "               'max_depth': max_depth,\n",
    "               'min_samples_split': min_samples_split,\n",
    "               'min_samples_leaf': min_samples_leaf,\n",
    "               'bootstrap': bootstrap}\n",
    "print(param_grid)"
   ]
  },
  {
   "cell_type": "code",
   "execution_count": 134,
   "metadata": {},
   "outputs": [],
   "source": [
    "#Building the model\n",
    "rfr =RandomForestRegressor()\n",
    "from sklearn.model_selection import GridSearchCV\n",
    "rfr_Grid = GridSearchCV(estimator = rfr, param_grid = param_grid, cv = 3, n_jobs = 4)\n",
    "rfr_Grid_GS = rfr_Grid.fit(x1, y1)"
   ]
  },
  {
   "cell_type": "code",
   "execution_count": 178,
   "metadata": {},
   "outputs": [
    {
     "data": {
      "text/plain": [
       "{'bootstrap': True,\n",
       " 'max_depth': 2,\n",
       " 'max_features': 'auto',\n",
       " 'min_samples_leaf': 5,\n",
       " 'min_samples_split': 10,\n",
       " 'n_estimators': 200}"
      ]
     },
     "execution_count": 178,
     "metadata": {},
     "output_type": "execute_result"
    }
   ],
   "source": [
    "#Best Parameters\n",
    "rfr_Grid_GS.best_params_"
   ]
  },
  {
   "cell_type": "code",
   "execution_count": 136,
   "metadata": {},
   "outputs": [
    {
     "name": "stdout",
     "output_type": "stream",
     "text": [
      "[34.36502274  8.13415762 10.8104379   8.17235873 16.63884033  7.95493916\n",
      "  8.17235873  7.56483156 21.31614368  7.41097316 34.39891934  7.52099167\n",
      "  7.55004822  7.2840217   8.17235873  7.2840217  26.50191917 14.20766545\n",
      "  7.56483156  7.2840217   7.2840217   8.17235873  7.2840217   8.43736613\n",
      "  7.4286269   7.2840217   7.76311313  7.75270393  7.70318579 34.06530956\n",
      " 10.81043525  7.2840217  14.79523383  8.14484007  8.76588041 19.98013558\n",
      "  7.80617634  7.2840217   8.17235873  8.51583053 34.51063179  7.2840217\n",
      "  7.2840217   7.56483156 10.78296711 16.49512499  7.72029894 16.27114412\n",
      "  8.43736613  8.24088486 20.61617194 16.17134604  7.57361102  7.2840217\n",
      "  7.2840217   8.17235873  7.75270393  7.2840217  34.03578481 22.17947996\n",
      "  7.49543473  7.89292475 20.84345692  7.32768116  7.56483156  7.2840217\n",
      "  7.2840217   7.35254783  7.69917209  7.6114846   7.35254783  7.2840217\n",
      "  9.09711043 11.51461714 10.81043525 10.78296711  7.2840217   7.2840217\n",
      "  8.46194805  7.2840217   8.21275351  8.21275351 16.32606846 20.06139712\n",
      "  7.35254783  7.82049734 16.49512499 34.44621768  7.76090097 14.62246039\n",
      " 21.53941058 17.66124479  7.2840217   7.2840217   7.2840217   8.49439022\n",
      " 34.33071947 17.22043044 33.78065197  7.2840217 ]\n"
     ]
    }
   ],
   "source": [
    "#Prediction\n",
    "y_pred_gs = rfr_Grid_GS.predict(x1)\n",
    "len(y_pred_gs)\n",
    "print(y_pred_gs)"
   ]
  },
  {
   "cell_type": "code",
   "execution_count": 137,
   "metadata": {},
   "outputs": [
    {
     "name": "stdout",
     "output_type": "stream",
     "text": [
      "4.60913352144201\n"
     ]
    }
   ],
   "source": [
    "#RMSE\n",
    "from sklearn.metrics import mean_squared_error\n",
    "mse = mean_squared_error(y1, y_pred_gs)\n",
    "RMSE = np.sqrt(mse)\n",
    "print(RMSE)"
   ]
  },
  {
   "cell_type": "code",
   "execution_count": 186,
   "metadata": {},
   "outputs": [],
   "source": [
    "lst_train = []\n",
    "lst_test = []\n",
    "\n",
    "for i in range(1,6):\n",
    "    clf = tree.DecisionTreeRegressor(max_depth = i)\n",
    "    tf_clf = clf.fit(x_train, y_train)\n",
    "    y_pred_train = tf_clf.predict(x_train)    \n",
    "    mse = mean_squared_error(y_train, y_pred_train) \n",
    "    lst_train.append(np.sqrt(mse))\n",
    "    \n",
    "    y_pred_test = tf_clf.predict(x_test)    \n",
    "    mse = mean_squared_error(y_test, y_pred_test) \n",
    "    lst_test.append(np.sqrt(mse))\n",
    "    "
   ]
  },
  {
   "cell_type": "code",
   "execution_count": 187,
   "metadata": {},
   "outputs": [
    {
     "data": {
      "text/plain": [
       "[7.023018600576308,\n",
       " 5.974054704949698,\n",
       " 5.480617609810803,\n",
       " 5.118028359531034,\n",
       " 4.78139820753567]"
      ]
     },
     "execution_count": 187,
     "metadata": {},
     "output_type": "execute_result"
    }
   ],
   "source": [
    "lst_train"
   ]
  },
  {
   "cell_type": "code",
   "execution_count": 188,
   "metadata": {},
   "outputs": [
    {
     "data": {
      "text/plain": [
       "[6.663252619282954,\n",
       " 5.511627310383484,\n",
       " 5.3238858247435585,\n",
       " 5.060346458628639,\n",
       " 4.966248834286403]"
      ]
     },
     "execution_count": 188,
     "metadata": {},
     "output_type": "execute_result"
    }
   ],
   "source": [
    "lst_test"
   ]
  },
  {
   "cell_type": "code",
   "execution_count": null,
   "metadata": {},
   "outputs": [],
   "source": []
  },
  {
   "cell_type": "code",
   "execution_count": null,
   "metadata": {},
   "outputs": [],
   "source": []
  }
 ],
 "metadata": {
  "kernelspec": {
   "display_name": "Python 3",
   "language": "python",
   "name": "python3"
  },
  "language_info": {
   "codemirror_mode": {
    "name": "ipython",
    "version": 3
   },
   "file_extension": ".py",
   "mimetype": "text/x-python",
   "name": "python",
   "nbconvert_exporter": "python",
   "pygments_lexer": "ipython3",
   "version": "3.8.3"
  }
 },
 "nbformat": 4,
 "nbformat_minor": 5
}
